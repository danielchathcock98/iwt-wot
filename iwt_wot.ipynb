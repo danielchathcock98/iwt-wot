{
  "nbformat": 4,
  "nbformat_minor": 0,
  "metadata": {
    "colab": {
      "name": "iwt-wot.ipynb",
      "provenance": [],
      "collapsed_sections": [],
      "toc_visible": true
    },
    "kernelspec": {
      "name": "python3",
      "display_name": "Python 3"
    },
    "accelerator": "GPU"
  },
  "cells": [
    {
      "cell_type": "markdown",
      "metadata": {
        "id": "roK0Qml8d0-3",
        "colab_type": "text"
      },
      "source": [
        "# Setup\n",
        "\n",
        "Setup cells for running if Google Colab. Ignore if running locally."
      ]
    },
    {
      "cell_type": "code",
      "metadata": {
        "id": "UQGsOGC0tt2w",
        "colab_type": "code",
        "outputId": "1a80ca22-7621-4f0c-bf6c-e648fc491d80",
        "colab": {
          "base_uri": "https://localhost:8080/",
          "height": 257
        }
      },
      "source": [
        "!pip install fasttext"
      ],
      "execution_count": 1,
      "outputs": [
        {
          "output_type": "stream",
          "text": [
            "Collecting fasttext\n",
            "\u001b[?25l  Downloading https://files.pythonhosted.org/packages/10/61/2e01f1397ec533756c1d893c22d9d5ed3fce3a6e4af1976e0d86bb13ea97/fasttext-0.9.1.tar.gz (57kB)\n",
            "\r\u001b[K     |█████▊                          | 10kB 27.3MB/s eta 0:00:01\r\u001b[K     |███████████▍                    | 20kB 3.0MB/s eta 0:00:01\r\u001b[K     |█████████████████               | 30kB 4.0MB/s eta 0:00:01\r\u001b[K     |██████████████████████▊         | 40kB 2.8MB/s eta 0:00:01\r\u001b[K     |████████████████████████████▍   | 51kB 3.4MB/s eta 0:00:01\r\u001b[K     |████████████████████████████████| 61kB 3.0MB/s \n",
            "\u001b[?25hRequirement already satisfied: pybind11>=2.2 in /usr/local/lib/python3.6/dist-packages (from fasttext) (2.5.0)\n",
            "Requirement already satisfied: setuptools>=0.7.0 in /usr/local/lib/python3.6/dist-packages (from fasttext) (46.1.3)\n",
            "Requirement already satisfied: numpy in /usr/local/lib/python3.6/dist-packages (from fasttext) (1.18.2)\n",
            "Building wheels for collected packages: fasttext\n",
            "  Building wheel for fasttext (setup.py) ... \u001b[?25l\u001b[?25hdone\n",
            "  Created wheel for fasttext: filename=fasttext-0.9.1-cp36-cp36m-linux_x86_64.whl size=2385855 sha256=1580e57e61fa6bb4e694e56c05d4659b8f90d8155eeaa2f05b83932abc94c760\n",
            "  Stored in directory: /root/.cache/pip/wheels/9f/f0/04/caa82c912aee89ce76358ff954f3f0729b7577c8ff23a292e3\n",
            "Successfully built fasttext\n",
            "Installing collected packages: fasttext\n",
            "Successfully installed fasttext-0.9.1\n"
          ],
          "name": "stdout"
        }
      ]
    },
    {
      "cell_type": "code",
      "metadata": {
        "id": "u9Tmq7-BJkNN",
        "colab_type": "code",
        "colab": {}
      },
      "source": [
        "%load_ext autoreload\n",
        "%autoreload 2"
      ],
      "execution_count": 0,
      "outputs": []
    },
    {
      "cell_type": "code",
      "metadata": {
        "id": "UNp-0fHU9g1a",
        "colab_type": "code",
        "outputId": "660047a1-b0d8-4765-a1c1-03282f990e35",
        "colab": {
          "base_uri": "https://localhost:8080/",
          "height": 121
        }
      },
      "source": [
        "from google.colab import drive\n",
        "drive.mount('/content/drive')"
      ],
      "execution_count": 3,
      "outputs": [
        {
          "output_type": "stream",
          "text": [
            "Go to this URL in a browser: https://accounts.google.com/o/oauth2/auth?client_id=947318989803-6bn6qk8qdgf4n4g3pfee6491hc0brc4i.apps.googleusercontent.com&redirect_uri=urn%3aietf%3awg%3aoauth%3a2.0%3aoob&response_type=code&scope=email%20https%3a%2f%2fwww.googleapis.com%2fauth%2fdocs.test%20https%3a%2f%2fwww.googleapis.com%2fauth%2fdrive%20https%3a%2f%2fwww.googleapis.com%2fauth%2fdrive.photos.readonly%20https%3a%2f%2fwww.googleapis.com%2fauth%2fpeopleapi.readonly\n",
            "\n",
            "Enter your authorization code:\n",
            "··········\n",
            "Mounted at /content/drive\n"
          ],
          "name": "stdout"
        }
      ]
    },
    {
      "cell_type": "code",
      "metadata": {
        "id": "CLYaKi4PnBIP",
        "colab_type": "code",
        "colab": {}
      },
      "source": [
        "import sys\n",
        "sys.path.insert(1, 'drive/My Drive/iwt-wot/')\n",
        "\n",
        "import os\n",
        "os.environ['CUDA_LAUNCH_BLOCKING'] = '1'"
      ],
      "execution_count": 0,
      "outputs": []
    },
    {
      "cell_type": "markdown",
      "metadata": {
        "id": "5XlATNWFd94N",
        "colab_type": "text"
      },
      "source": [
        "# Imports and Loading Pre-trained Word Embeddings\n",
        "\n",
        "Make sure to change DRIVE_DIR in cell below based on the location of the iwt-wot folder"
      ]
    },
    {
      "cell_type": "code",
      "metadata": {
        "id": "7s7FZVrAswbr",
        "colab_type": "code",
        "outputId": "f5b1afa5-fdef-482c-f98e-5e232b89ac3c",
        "colab": {
          "base_uri": "https://localhost:8080/",
          "height": 34
        }
      },
      "source": [
        "from wordEmbedding import Embedding\n",
        "\n",
        "import random\n",
        "from pathlib import Path\n",
        "import math\n",
        "\n",
        "import torch\n",
        "import torch.optim as optim\n",
        "import torch.nn as nn\n",
        "\n",
        "device = torch.device(\"cuda\" if torch.cuda.is_available() else \"cpu\")\n",
        "random.seed(1)\n",
        "print(device)\n",
        "\n",
        "DRIVE_DIR = Path('drive/My Drive/iwt-wot/')"
      ],
      "execution_count": 5,
      "outputs": [
        {
          "output_type": "stream",
          "text": [
            "cuda\n"
          ],
          "name": "stdout"
        }
      ]
    },
    {
      "cell_type": "code",
      "metadata": {
        "id": "bkzwP6h57ob9",
        "colab_type": "code",
        "outputId": "b5829e92-3da4-4a9d-df41-db8df7dd5412",
        "colab": {
          "base_uri": "https://localhost:8080/",
          "height": 85
        }
      },
      "source": [
        "print('about to load embeddings')\n",
        "embed = Embedding(DRIVE_DIR)"
      ],
      "execution_count": 6,
      "outputs": [
        {
          "output_type": "stream",
          "text": [
            "about to load embeddings\n",
            "loading embedding model\n",
            "loaded embedding model\n"
          ],
          "name": "stdout"
        },
        {
          "output_type": "stream",
          "text": [
            "\n"
          ],
          "name": "stderr"
        }
      ]
    },
    {
      "cell_type": "markdown",
      "metadata": {
        "id": "rfPe9pcyeLi1",
        "colab_type": "text"
      },
      "source": [
        "# Sub-task 1"
      ]
    },
    {
      "cell_type": "markdown",
      "metadata": {
        "id": "1eImMzoYeNWI",
        "colab_type": "text"
      },
      "source": [
        "## Model 2\n",
        "\n",
        "Training of model 2 for sub-task 1"
      ]
    },
    {
      "cell_type": "code",
      "metadata": {
        "id": "I4IKIhEfolEC",
        "colab_type": "code",
        "colab": {}
      },
      "source": [
        "from model import Model25 as Model2\n",
        "from preprocessing import model2preprocessing, TASK_1, EXTRA_TRAIN_TASK_1"
      ],
      "execution_count": 0,
      "outputs": []
    },
    {
      "cell_type": "code",
      "metadata": {
        "id": "KmpXeIh17k7e",
        "colab_type": "code",
        "outputId": "14c24f36-afaa-4e91-caee-cee0ccbb2a28",
        "colab": {
          "base_uri": "https://localhost:8080/",
          "height": 68
        }
      },
      "source": [
        "print('about to load data')\n",
        "training_data = model2preprocessing([DRIVE_DIR / TASK_1 / 'train.csv', DRIVE_DIR / EXTRA_TRAIN_TASK_1])\n",
        "print('loaded training data')\n",
        "val_data = model2preprocessing([DRIVE_DIR / TASK_1 / 'dev.csv'])\n",
        "print('loaded val data')"
      ],
      "execution_count": 8,
      "outputs": [
        {
          "output_type": "stream",
          "text": [
            "about to load data\n",
            "loaded training data\n",
            "loaded val data\n"
          ],
          "name": "stdout"
        }
      ]
    },
    {
      "cell_type": "code",
      "metadata": {
        "id": "O9xQQB5R879q",
        "colab_type": "code",
        "colab": {}
      },
      "source": [
        "def train(epoch, model, loss_function, optimizer):\n",
        "    train_loss = 0\n",
        "    train_examples = 0\n",
        "    square_error = 0\n",
        "\n",
        "    for inputData, score in training_data:\n",
        "        model.zero_grad()\n",
        "\n",
        "        embedding = torch.tensor(embed.embed_sentence(inputData)).to(device)\n",
        "        score_tensor = torch.tensor([score]).to(device)\n",
        "\n",
        "        score_output = model(embedding)\n",
        "\n",
        "        loss = loss_function(score_output.view((1, -1)), score_tensor.view((1, -1)))\n",
        "        train_loss += loss.item()\n",
        "\n",
        "        square_error += (score_output.item() - score)**2\n",
        "\n",
        "        loss.backward()\n",
        "        optimizer.step()\n",
        "\n",
        "        train_examples += 1\n",
        "\n",
        "    train_rmse = math.sqrt(square_error / train_examples)\n",
        "    avg_train_loss = train_loss / train_examples\n",
        "    avg_val_loss, val_rmse = evaluate(model, loss_function, optimizer)\n",
        "\n",
        "    print(\"Epoch: {}/{}\\tAvg Train Loss: {:.4f}\\tAvg Val Loss: {:.4f}\\t Train RMSE: {:.4f}\\t Val RMSE: {:.4f}\".format(epoch,\n",
        "                                                                      EPOCHS,\n",
        "                                                                      avg_train_loss,\n",
        "                                                                      avg_val_loss,\n",
        "                                                                      train_rmse,\n",
        "                                                                      val_rmse))\n",
        "    \n",
        "    return train_rmse, val_rmse"
      ],
      "execution_count": 0,
      "outputs": []
    },
    {
      "cell_type": "code",
      "metadata": {
        "id": "UsHNX46S9FHc",
        "colab_type": "code",
        "colab": {}
      },
      "source": [
        "def evaluate(model, loss_function, optimizer):\n",
        "  # returns:: avg_val_loss (float)\n",
        "  # returns:: val_accuracy (float)\n",
        "    val_loss = 0\n",
        "    square_error = 0\n",
        "    val_examples = 0\n",
        "    with torch.no_grad():\n",
        "        for inputData, score in val_data:\n",
        "            embedding = torch.tensor(embed.embed_sentence(inputData)).to(device)\n",
        "            score_tensor = torch.tensor([score]).to(device)\n",
        "            score_output = model(embedding)\n",
        "\n",
        "            loss = loss_function(score_output.view((1, -1)), score_tensor.view((1, -1)))\n",
        "            val_loss += loss.item()\n",
        "            square_error += (score_output.item() - score)**2\n",
        "\n",
        "            val_examples += 1\n",
        "\n",
        "    rmse = math.sqrt(square_error / val_examples)\n",
        "    avg_val_loss = val_loss / val_examples\n",
        "    return avg_val_loss, rmse"
      ],
      "execution_count": 0,
      "outputs": []
    },
    {
      "cell_type": "code",
      "metadata": {
        "id": "zRDmnyNJsy9N",
        "colab_type": "code",
        "outputId": "fbe9b4c9-069c-4621-e3f6-ec48f21a2b62",
        "colab": {
          "base_uri": "https://localhost:8080/",
          "height": 747
        }
      },
      "source": [
        "HIDDEN_DIM = 6\n",
        "LEARNING_RATE = 0.2\n",
        "LSTM_LAYERS = 1\n",
        "DROPOUT = 0\n",
        "EPOCHS = 30\n",
        "\n",
        "print(device)\n",
        "model2 = Model2(HIDDEN_DIM, LSTM_LAYERS, DROPOUT).to(device)\n",
        "print(f'model loaded to device')\n",
        "optimizer = torch.optim.SGD(model2.parameters(), lr=LEARNING_RATE)\n",
        "\n",
        "loss_function = nn.MSELoss()\n",
        "\n",
        "t_rmses = []\n",
        "v_rmses = []\n",
        "\n",
        "for epoch in range(1, EPOCHS + 1):\n",
        "    tr, vr = train(epoch, model2, loss_function, optimizer)\n",
        "    t_rmses.append(tr)\n",
        "    v_rmses.append(vr)"
      ],
      "execution_count": 16,
      "outputs": [
        {
          "output_type": "stream",
          "text": [
            "cuda\n",
            "model loaded to device\n",
            "Epoch: 1/30\tAvg Train Loss: 0.3870\tAvg Val Loss: 0.3685\t Train RMSE: 0.6221\t Val RMSE: 0.6070\n",
            "Epoch: 2/30\tAvg Train Loss: 0.3800\tAvg Val Loss: 0.3576\t Train RMSE: 0.6164\t Val RMSE: 0.5980\n",
            "Epoch: 3/30\tAvg Train Loss: 0.3690\tAvg Val Loss: 0.3549\t Train RMSE: 0.6074\t Val RMSE: 0.5957\n",
            "Epoch: 4/30\tAvg Train Loss: 0.3581\tAvg Val Loss: 0.3470\t Train RMSE: 0.5984\t Val RMSE: 0.5891\n",
            "Epoch: 5/30\tAvg Train Loss: 0.3498\tAvg Val Loss: 0.3429\t Train RMSE: 0.5914\t Val RMSE: 0.5856\n",
            "Epoch: 6/30\tAvg Train Loss: 0.3424\tAvg Val Loss: 0.3409\t Train RMSE: 0.5852\t Val RMSE: 0.5839\n",
            "Epoch: 7/30\tAvg Train Loss: 0.3364\tAvg Val Loss: 0.3420\t Train RMSE: 0.5800\t Val RMSE: 0.5848\n",
            "Epoch: 8/30\tAvg Train Loss: 0.3309\tAvg Val Loss: 0.3427\t Train RMSE: 0.5752\t Val RMSE: 0.5854\n",
            "Epoch: 9/30\tAvg Train Loss: 0.3259\tAvg Val Loss: 0.3413\t Train RMSE: 0.5709\t Val RMSE: 0.5842\n",
            "Epoch: 10/30\tAvg Train Loss: 0.3212\tAvg Val Loss: 0.3400\t Train RMSE: 0.5667\t Val RMSE: 0.5831\n",
            "Epoch: 11/30\tAvg Train Loss: 0.3170\tAvg Val Loss: 0.3387\t Train RMSE: 0.5631\t Val RMSE: 0.5820\n",
            "Epoch: 12/30\tAvg Train Loss: 0.3133\tAvg Val Loss: 0.3368\t Train RMSE: 0.5597\t Val RMSE: 0.5804\n",
            "Epoch: 13/30\tAvg Train Loss: 0.3088\tAvg Val Loss: 0.3357\t Train RMSE: 0.5557\t Val RMSE: 0.5794\n",
            "Epoch: 14/30\tAvg Train Loss: 0.3054\tAvg Val Loss: 0.3363\t Train RMSE: 0.5526\t Val RMSE: 0.5799\n",
            "Epoch: 15/30\tAvg Train Loss: 0.3023\tAvg Val Loss: 0.3412\t Train RMSE: 0.5498\t Val RMSE: 0.5841\n",
            "Epoch: 16/30\tAvg Train Loss: 0.2987\tAvg Val Loss: 0.3449\t Train RMSE: 0.5465\t Val RMSE: 0.5873\n",
            "Epoch: 17/30\tAvg Train Loss: 0.2963\tAvg Val Loss: 0.3567\t Train RMSE: 0.5443\t Val RMSE: 0.5973\n",
            "Epoch: 18/30\tAvg Train Loss: 0.2931\tAvg Val Loss: 0.3601\t Train RMSE: 0.5414\t Val RMSE: 0.6001\n",
            "Epoch: 19/30\tAvg Train Loss: 0.2915\tAvg Val Loss: 0.3647\t Train RMSE: 0.5400\t Val RMSE: 0.6039\n",
            "Epoch: 20/30\tAvg Train Loss: 0.3084\tAvg Val Loss: 0.3600\t Train RMSE: 0.5553\t Val RMSE: 0.6000\n"
          ],
          "name": "stdout"
        },
        {
          "output_type": "error",
          "ename": "KeyboardInterrupt",
          "evalue": "ignored",
          "traceback": [
            "\u001b[0;31m---------------------------------------------------------------------------\u001b[0m",
            "\u001b[0;31mKeyboardInterrupt\u001b[0m                         Traceback (most recent call last)",
            "\u001b[0;32m<ipython-input-16-162eed2f3ce7>\u001b[0m in \u001b[0;36m<module>\u001b[0;34m()\u001b[0m\n\u001b[1;32m     16\u001b[0m \u001b[0;34m\u001b[0m\u001b[0m\n\u001b[1;32m     17\u001b[0m \u001b[0;32mfor\u001b[0m \u001b[0mepoch\u001b[0m \u001b[0;32min\u001b[0m \u001b[0mrange\u001b[0m\u001b[0;34m(\u001b[0m\u001b[0;36m1\u001b[0m\u001b[0;34m,\u001b[0m \u001b[0mEPOCHS\u001b[0m \u001b[0;34m+\u001b[0m \u001b[0;36m1\u001b[0m\u001b[0;34m)\u001b[0m\u001b[0;34m:\u001b[0m\u001b[0;34m\u001b[0m\u001b[0;34m\u001b[0m\u001b[0m\n\u001b[0;32m---> 18\u001b[0;31m     \u001b[0mtr\u001b[0m\u001b[0;34m,\u001b[0m \u001b[0mvr\u001b[0m \u001b[0;34m=\u001b[0m \u001b[0mtrain\u001b[0m\u001b[0;34m(\u001b[0m\u001b[0mepoch\u001b[0m\u001b[0;34m,\u001b[0m \u001b[0mmodel2\u001b[0m\u001b[0;34m,\u001b[0m \u001b[0mloss_function\u001b[0m\u001b[0;34m,\u001b[0m \u001b[0moptimizer\u001b[0m\u001b[0;34m)\u001b[0m\u001b[0;34m\u001b[0m\u001b[0;34m\u001b[0m\u001b[0m\n\u001b[0m\u001b[1;32m     19\u001b[0m     \u001b[0mt_rmses\u001b[0m\u001b[0;34m.\u001b[0m\u001b[0mappend\u001b[0m\u001b[0;34m(\u001b[0m\u001b[0mtr\u001b[0m\u001b[0;34m)\u001b[0m\u001b[0;34m\u001b[0m\u001b[0;34m\u001b[0m\u001b[0m\n\u001b[1;32m     20\u001b[0m     \u001b[0mv_rmses\u001b[0m\u001b[0;34m.\u001b[0m\u001b[0mappend\u001b[0m\u001b[0;34m(\u001b[0m\u001b[0mvr\u001b[0m\u001b[0;34m)\u001b[0m\u001b[0;34m\u001b[0m\u001b[0;34m\u001b[0m\u001b[0m\n",
            "\u001b[0;32m<ipython-input-14-f8b9b7c4d18d>\u001b[0m in \u001b[0;36mtrain\u001b[0;34m(epoch, model, loss_function, optimizer)\u001b[0m\n\u001b[1;32m     16\u001b[0m         \u001b[0;31m# score_tensor = torch.tensor([1 - score_prob, score_prob]).to(device)\u001b[0m\u001b[0;34m\u001b[0m\u001b[0;34m\u001b[0m\u001b[0;34m\u001b[0m\u001b[0m\n\u001b[1;32m     17\u001b[0m \u001b[0;34m\u001b[0m\u001b[0m\n\u001b[0;32m---> 18\u001b[0;31m         \u001b[0mscore_output\u001b[0m \u001b[0;34m=\u001b[0m \u001b[0mmodel\u001b[0m\u001b[0;34m(\u001b[0m\u001b[0membedding\u001b[0m\u001b[0;34m)\u001b[0m\u001b[0;34m\u001b[0m\u001b[0;34m\u001b[0m\u001b[0m\n\u001b[0m\u001b[1;32m     19\u001b[0m \u001b[0;34m\u001b[0m\u001b[0m\n\u001b[1;32m     20\u001b[0m         \u001b[0mloss\u001b[0m \u001b[0;34m=\u001b[0m \u001b[0mloss_function\u001b[0m\u001b[0;34m(\u001b[0m\u001b[0mscore_output\u001b[0m\u001b[0;34m.\u001b[0m\u001b[0mview\u001b[0m\u001b[0;34m(\u001b[0m\u001b[0;34m(\u001b[0m\u001b[0;36m1\u001b[0m\u001b[0;34m,\u001b[0m \u001b[0;34m-\u001b[0m\u001b[0;36m1\u001b[0m\u001b[0;34m)\u001b[0m\u001b[0;34m)\u001b[0m\u001b[0;34m,\u001b[0m \u001b[0mscore_tensor\u001b[0m\u001b[0;34m.\u001b[0m\u001b[0mview\u001b[0m\u001b[0;34m(\u001b[0m\u001b[0;34m(\u001b[0m\u001b[0;36m1\u001b[0m\u001b[0;34m,\u001b[0m \u001b[0;34m-\u001b[0m\u001b[0;36m1\u001b[0m\u001b[0;34m)\u001b[0m\u001b[0;34m)\u001b[0m\u001b[0;34m)\u001b[0m\u001b[0;34m\u001b[0m\u001b[0;34m\u001b[0m\u001b[0m\n",
            "\u001b[0;32m/usr/local/lib/python3.6/dist-packages/torch/nn/modules/module.py\u001b[0m in \u001b[0;36m__call__\u001b[0;34m(self, *input, **kwargs)\u001b[0m\n\u001b[1;32m    530\u001b[0m             \u001b[0mresult\u001b[0m \u001b[0;34m=\u001b[0m \u001b[0mself\u001b[0m\u001b[0;34m.\u001b[0m\u001b[0m_slow_forward\u001b[0m\u001b[0;34m(\u001b[0m\u001b[0;34m*\u001b[0m\u001b[0minput\u001b[0m\u001b[0;34m,\u001b[0m \u001b[0;34m**\u001b[0m\u001b[0mkwargs\u001b[0m\u001b[0;34m)\u001b[0m\u001b[0;34m\u001b[0m\u001b[0;34m\u001b[0m\u001b[0m\n\u001b[1;32m    531\u001b[0m         \u001b[0;32melse\u001b[0m\u001b[0;34m:\u001b[0m\u001b[0;34m\u001b[0m\u001b[0;34m\u001b[0m\u001b[0m\n\u001b[0;32m--> 532\u001b[0;31m             \u001b[0mresult\u001b[0m \u001b[0;34m=\u001b[0m \u001b[0mself\u001b[0m\u001b[0;34m.\u001b[0m\u001b[0mforward\u001b[0m\u001b[0;34m(\u001b[0m\u001b[0;34m*\u001b[0m\u001b[0minput\u001b[0m\u001b[0;34m,\u001b[0m \u001b[0;34m**\u001b[0m\u001b[0mkwargs\u001b[0m\u001b[0;34m)\u001b[0m\u001b[0;34m\u001b[0m\u001b[0;34m\u001b[0m\u001b[0m\n\u001b[0m\u001b[1;32m    533\u001b[0m         \u001b[0;32mfor\u001b[0m \u001b[0mhook\u001b[0m \u001b[0;32min\u001b[0m \u001b[0mself\u001b[0m\u001b[0;34m.\u001b[0m\u001b[0m_forward_hooks\u001b[0m\u001b[0;34m.\u001b[0m\u001b[0mvalues\u001b[0m\u001b[0;34m(\u001b[0m\u001b[0;34m)\u001b[0m\u001b[0;34m:\u001b[0m\u001b[0;34m\u001b[0m\u001b[0;34m\u001b[0m\u001b[0m\n\u001b[1;32m    534\u001b[0m             \u001b[0mhook_result\u001b[0m \u001b[0;34m=\u001b[0m \u001b[0mhook\u001b[0m\u001b[0;34m(\u001b[0m\u001b[0mself\u001b[0m\u001b[0;34m,\u001b[0m \u001b[0minput\u001b[0m\u001b[0;34m,\u001b[0m \u001b[0mresult\u001b[0m\u001b[0;34m)\u001b[0m\u001b[0;34m\u001b[0m\u001b[0;34m\u001b[0m\u001b[0m\n",
            "\u001b[0;32m/content/drive/My Drive/iwt-wot/model.py\u001b[0m in \u001b[0;36mforward\u001b[0;34m(self, encoded_sentence)\u001b[0m\n\u001b[1;32m     19\u001b[0m     \u001b[0;32mdef\u001b[0m \u001b[0mforward\u001b[0m\u001b[0;34m(\u001b[0m\u001b[0mself\u001b[0m\u001b[0;34m,\u001b[0m \u001b[0mencoded_sentence\u001b[0m\u001b[0;34m)\u001b[0m\u001b[0;34m:\u001b[0m\u001b[0;34m\u001b[0m\u001b[0;34m\u001b[0m\u001b[0m\n\u001b[1;32m     20\u001b[0m \u001b[0;34m\u001b[0m\u001b[0m\n\u001b[0;32m---> 21\u001b[0;31m         \u001b[0m_\u001b[0m\u001b[0;34m,\u001b[0m \u001b[0;34m(\u001b[0m\u001b[0mlstm_hn\u001b[0m\u001b[0;34m,\u001b[0m \u001b[0m_\u001b[0m\u001b[0;34m)\u001b[0m \u001b[0;34m=\u001b[0m \u001b[0mself\u001b[0m\u001b[0;34m.\u001b[0m\u001b[0mlstm\u001b[0m\u001b[0;34m(\u001b[0m\u001b[0mencoded_sentence\u001b[0m\u001b[0;34m.\u001b[0m\u001b[0mview\u001b[0m\u001b[0;34m(\u001b[0m\u001b[0;34m-\u001b[0m\u001b[0;36m1\u001b[0m\u001b[0;34m,\u001b[0m \u001b[0;36m1\u001b[0m\u001b[0;34m,\u001b[0m \u001b[0mEMBEDDING_DIM\u001b[0m\u001b[0;34m)\u001b[0m\u001b[0;34m)\u001b[0m\u001b[0;34m\u001b[0m\u001b[0;34m\u001b[0m\u001b[0m\n\u001b[0m\u001b[1;32m     22\u001b[0m         \u001b[0mdecoded\u001b[0m \u001b[0;34m=\u001b[0m \u001b[0mself\u001b[0m\u001b[0;34m.\u001b[0m\u001b[0mdecoder\u001b[0m\u001b[0;34m(\u001b[0m\u001b[0mlstm_hn\u001b[0m\u001b[0;34m.\u001b[0m\u001b[0mview\u001b[0m\u001b[0;34m(\u001b[0m\u001b[0mself\u001b[0m\u001b[0;34m.\u001b[0m\u001b[0mhidden_dim\u001b[0m\u001b[0;34m)\u001b[0m\u001b[0;34m)\u001b[0m\u001b[0;34m\u001b[0m\u001b[0;34m\u001b[0m\u001b[0m\n\u001b[1;32m     23\u001b[0m         \u001b[0mprobability_vector\u001b[0m \u001b[0;34m=\u001b[0m \u001b[0mself\u001b[0m\u001b[0;34m.\u001b[0m\u001b[0msoftmax_layer\u001b[0m\u001b[0;34m(\u001b[0m\u001b[0mdecoded\u001b[0m\u001b[0;34m)\u001b[0m\u001b[0;34m\u001b[0m\u001b[0;34m\u001b[0m\u001b[0m\n",
            "\u001b[0;32m/usr/local/lib/python3.6/dist-packages/torch/nn/modules/module.py\u001b[0m in \u001b[0;36m__call__\u001b[0;34m(self, *input, **kwargs)\u001b[0m\n\u001b[1;32m    530\u001b[0m             \u001b[0mresult\u001b[0m \u001b[0;34m=\u001b[0m \u001b[0mself\u001b[0m\u001b[0;34m.\u001b[0m\u001b[0m_slow_forward\u001b[0m\u001b[0;34m(\u001b[0m\u001b[0;34m*\u001b[0m\u001b[0minput\u001b[0m\u001b[0;34m,\u001b[0m \u001b[0;34m**\u001b[0m\u001b[0mkwargs\u001b[0m\u001b[0;34m)\u001b[0m\u001b[0;34m\u001b[0m\u001b[0;34m\u001b[0m\u001b[0m\n\u001b[1;32m    531\u001b[0m         \u001b[0;32melse\u001b[0m\u001b[0;34m:\u001b[0m\u001b[0;34m\u001b[0m\u001b[0;34m\u001b[0m\u001b[0m\n\u001b[0;32m--> 532\u001b[0;31m             \u001b[0mresult\u001b[0m \u001b[0;34m=\u001b[0m \u001b[0mself\u001b[0m\u001b[0;34m.\u001b[0m\u001b[0mforward\u001b[0m\u001b[0;34m(\u001b[0m\u001b[0;34m*\u001b[0m\u001b[0minput\u001b[0m\u001b[0;34m,\u001b[0m \u001b[0;34m**\u001b[0m\u001b[0mkwargs\u001b[0m\u001b[0;34m)\u001b[0m\u001b[0;34m\u001b[0m\u001b[0;34m\u001b[0m\u001b[0m\n\u001b[0m\u001b[1;32m    533\u001b[0m         \u001b[0;32mfor\u001b[0m \u001b[0mhook\u001b[0m \u001b[0;32min\u001b[0m \u001b[0mself\u001b[0m\u001b[0;34m.\u001b[0m\u001b[0m_forward_hooks\u001b[0m\u001b[0;34m.\u001b[0m\u001b[0mvalues\u001b[0m\u001b[0;34m(\u001b[0m\u001b[0;34m)\u001b[0m\u001b[0;34m:\u001b[0m\u001b[0;34m\u001b[0m\u001b[0;34m\u001b[0m\u001b[0m\n\u001b[1;32m    534\u001b[0m             \u001b[0mhook_result\u001b[0m \u001b[0;34m=\u001b[0m \u001b[0mhook\u001b[0m\u001b[0;34m(\u001b[0m\u001b[0mself\u001b[0m\u001b[0;34m,\u001b[0m \u001b[0minput\u001b[0m\u001b[0;34m,\u001b[0m \u001b[0mresult\u001b[0m\u001b[0;34m)\u001b[0m\u001b[0;34m\u001b[0m\u001b[0;34m\u001b[0m\u001b[0m\n",
            "\u001b[0;32m/usr/local/lib/python3.6/dist-packages/torch/nn/modules/rnn.py\u001b[0m in \u001b[0;36mforward\u001b[0;34m(self, input, hx)\u001b[0m\n\u001b[1;32m    557\u001b[0m         \u001b[0;32mif\u001b[0m \u001b[0mbatch_sizes\u001b[0m \u001b[0;32mis\u001b[0m \u001b[0;32mNone\u001b[0m\u001b[0;34m:\u001b[0m\u001b[0;34m\u001b[0m\u001b[0;34m\u001b[0m\u001b[0m\n\u001b[1;32m    558\u001b[0m             result = _VF.lstm(input, hx, self._flat_weights, self.bias, self.num_layers,\n\u001b[0;32m--> 559\u001b[0;31m                               self.dropout, self.training, self.bidirectional, self.batch_first)\n\u001b[0m\u001b[1;32m    560\u001b[0m         \u001b[0;32melse\u001b[0m\u001b[0;34m:\u001b[0m\u001b[0;34m\u001b[0m\u001b[0;34m\u001b[0m\u001b[0m\n\u001b[1;32m    561\u001b[0m             result = _VF.lstm(input, batch_sizes, hx, self._flat_weights, self.bias,\n",
            "\u001b[0;31mKeyboardInterrupt\u001b[0m: "
          ]
        }
      ]
    },
    {
      "cell_type": "code",
      "metadata": {
        "id": "SNe8lAYK_P5p",
        "colab_type": "code",
        "colab": {
          "base_uri": "https://localhost:8080/",
          "height": 279
        },
        "outputId": "c1648737-9f7b-4470-edee-c1ad25ebd50f"
      },
      "source": [
        "import matplotlib.pyplot as plt\n",
        "import numpy as np\n",
        "\n",
        "plt.plot(range(len(t_rmses)), t_rmses, 'r', label='train')\n",
        "plt.plot(range(len(v_rmses)), v_rmses, 'g', label='val')\n",
        "plt.legend()\n",
        "plt.xlabel('epoch')\n",
        "plt.ylabel('RMSE')\n",
        "plt.xticks(np.arange(1, 21, 2)-1, np.arange(1, 21, 2))\n",
        "\n",
        "plt.savefig('overfitting.png')\n",
        "plt.show()"
      ],
      "execution_count": 28,
      "outputs": [
        {
          "output_type": "display_data",
          "data": {
            "image/png": "[encoded data removed]",
            "text/plain": [
              "<Figure size 432x288 with 1 Axes>"
            ]
          },
          "metadata": {
            "tags": [],
            "needs_background": "light"
          }
        }
      ]
    },
    {
      "cell_type": "markdown",
      "metadata": {
        "id": "t9fJJkYreWYN",
        "colab_type": "text"
      },
      "source": [
        "## Model 1\n",
        "\n",
        "Training of model 1 for sub-task 1 (also for sub-task 2, since we simply create a model for sub-task 2 directly from Model 1 for sub-task 2)"
      ]
    },
    {
      "cell_type": "code",
      "metadata": {
        "id": "N8xa3ixJko8N",
        "colab_type": "code",
        "colab": {}
      },
      "source": [
        "from model import Model25 as Model1\n",
        "from preprocessing import model1preprocessing, TASK_1, EXTRA_TRAIN_TASK_1"
      ],
      "execution_count": 0,
      "outputs": []
    },
    {
      "cell_type": "code",
      "metadata": {
        "id": "J6dyDs1PwkcE",
        "colab_type": "code",
        "outputId": "afec19a8-db8a-4fa1-cc73-a85e21e03db9",
        "colab": {
          "base_uri": "https://localhost:8080/",
          "height": 68
        }
      },
      "source": [
        "print('about to load data')\n",
        "training_data = model1preprocessing([DRIVE_DIR / TASK_1 / 'train.csv', DRIVE_DIR / EXTRA_TRAIN_TASK_1])\n",
        "print('loaded training data')\n",
        "val_data = model1preprocessing([DRIVE_DIR / TASK_1 / 'dev.csv'])\n",
        "print('loaded val data')"
      ],
      "execution_count": 71,
      "outputs": [
        {
          "output_type": "stream",
          "text": [
            "about to load data\n",
            "loaded training data\n",
            "loaded val data\n"
          ],
          "name": "stdout"
        }
      ]
    },
    {
      "cell_type": "code",
      "metadata": {
        "id": "1BwpEFY9xG6Q",
        "colab_type": "code",
        "colab": {}
      },
      "source": [
        "def train(epoch, model, loss_function, optimizer):\n",
        "    train_loss = 0\n",
        "    train_examples = 0\n",
        "    square_error = 0\n",
        "\n",
        "    for inputData, score in training_data[1::2]:\n",
        "        model.zero_grad()\n",
        "\n",
        "        embedding = torch.tensor(embed.embed_sentence(inputData)).to(device)\n",
        "        score_tensor = torch.tensor([score]).to(device)\n",
        "\n",
        "        score_output = model(embedding)\n",
        "        \n",
        "        loss = loss_function(score_output.view((1, -1)), score_tensor.view((1, -1)))\n",
        "        train_loss += loss.item()\n",
        "        square_error += (score_output.item() - score)**2\n",
        "\n",
        "        loss.backward()\n",
        "        optimizer.step()\n",
        "\n",
        "        train_examples += 1\n",
        "\n",
        "    train_rmse = math.sqrt(square_error / train_examples)\n",
        "    avg_train_loss = train_loss / train_examples\n",
        "    avg_val_loss, val_rmse = evaluate(model, loss_function, optimizer)\n",
        "\n",
        "    print(\"Epoch: {}/{}\\tAvg Train Loss: {:.4f}\\tAvg Val Loss: {:.4f}\\t Train RMSE: {:.4f}\\t Val RMSE: {:.4f}\".format(epoch,\n",
        "                                                                      EPOCHS,\n",
        "                                                                      avg_train_loss,\n",
        "                                                                      avg_val_loss,\n",
        "                                                                      train_rmse,\n",
        "                                                                      val_rmse))"
      ],
      "execution_count": 0,
      "outputs": []
    },
    {
      "cell_type": "code",
      "metadata": {
        "id": "oSqTQpDXxMgT",
        "colab_type": "code",
        "colab": {}
      },
      "source": [
        "def evaluate(model, loss_function, optimizer):\n",
        "  # returns:: avg_val_loss (float)\n",
        "  # returns:: val_accuracy (float)\n",
        "    val_loss = 0\n",
        "    square_error = 0\n",
        "    val_examples = 0\n",
        "    with torch.no_grad():\n",
        "        for inputData, score in val_data[1::2]:\n",
        "            embedding = torch.tensor(embed.embed_sentence(inputData)).to(device)\n",
        "            score_tensor = torch.tensor([score]).to(device)\n",
        "\n",
        "            score_output = model(embedding)\n",
        "\n",
        "            loss = loss_function(score_output.view((1, -1)), score_tensor.view((1, -1)))\n",
        "            val_loss += loss.item()\n",
        "\n",
        "            square_error += (score_output.item() - score)**2\n",
        "\n",
        "            val_examples += 1\n",
        "\n",
        "    rmse = math.sqrt(square_error / val_examples)\n",
        "    avg_val_loss = val_loss / val_examples\n",
        "    return avg_val_loss, rmse"
      ],
      "execution_count": 0,
      "outputs": []
    },
    {
      "cell_type": "code",
      "metadata": {
        "id": "PjffpJtJxM9l",
        "colab_type": "code",
        "outputId": "e3819fda-db8d-4be6-c198-5dcba589cee5",
        "colab": {
          "base_uri": "https://localhost:8080/",
          "height": 408
        }
      },
      "source": [
        "HIDDEN_DIM = 6\n",
        "LEARNING_RATE = 0.18\n",
        "LSTM_LAYERS = 1\n",
        "DROPOUT = 0\n",
        "EPOCHS = 30\n",
        "\n",
        "print(device)\n",
        "model1 = Model1(HIDDEN_DIM, LSTM_LAYERS, DROPOUT).to(device)\n",
        "print(f'model loaded to device')\n",
        "optimizer = torch.optim.SGD(model1.parameters(), lr=LEARNING_RATE)\n",
        "\n",
        "loss_function = nn.MSELoss()\n",
        "\n",
        "\n",
        "for epoch in range(1, EPOCHS + 1):\n",
        "    train(epoch, model1, loss_function, optimizer)"
      ],
      "execution_count": 74,
      "outputs": [
        {
          "output_type": "stream",
          "text": [
            "cuda\n",
            "model loaded to device\n",
            "Epoch: 1/30\tAvg Train Loss: 0.3783\tAvg Val Loss: 0.3814\t Train RMSE: 0.6151\t Val RMSE: 0.6176\n",
            "Epoch: 2/30\tAvg Train Loss: 0.3690\tAvg Val Loss: 0.3673\t Train RMSE: 0.6074\t Val RMSE: 0.6060\n"
          ],
          "name": "stdout"
        },
        {
          "output_type": "error",
          "ename": "KeyboardInterrupt",
          "evalue": "ignored",
          "traceback": [
            "\u001b[0;31m---------------------------------------------------------------------------\u001b[0m",
            "\u001b[0;31mKeyboardInterrupt\u001b[0m                         Traceback (most recent call last)",
            "\u001b[0;32m<ipython-input-74-96f1a28ba816>\u001b[0m in \u001b[0;36m<module>\u001b[0;34m()\u001b[0m\n\u001b[1;32m     14\u001b[0m \u001b[0;34m\u001b[0m\u001b[0m\n\u001b[1;32m     15\u001b[0m \u001b[0;32mfor\u001b[0m \u001b[0mepoch\u001b[0m \u001b[0;32min\u001b[0m \u001b[0mrange\u001b[0m\u001b[0;34m(\u001b[0m\u001b[0;36m1\u001b[0m\u001b[0;34m,\u001b[0m \u001b[0mEPOCHS\u001b[0m \u001b[0;34m+\u001b[0m \u001b[0;36m1\u001b[0m\u001b[0;34m)\u001b[0m\u001b[0;34m:\u001b[0m\u001b[0;34m\u001b[0m\u001b[0;34m\u001b[0m\u001b[0m\n\u001b[0;32m---> 16\u001b[0;31m     \u001b[0mtrain\u001b[0m\u001b[0;34m(\u001b[0m\u001b[0mepoch\u001b[0m\u001b[0;34m,\u001b[0m \u001b[0mmodel1\u001b[0m\u001b[0;34m,\u001b[0m \u001b[0mloss_function\u001b[0m\u001b[0;34m,\u001b[0m \u001b[0moptimizer\u001b[0m\u001b[0;34m)\u001b[0m\u001b[0;34m\u001b[0m\u001b[0;34m\u001b[0m\u001b[0m\n\u001b[0m",
            "\u001b[0;32m<ipython-input-72-8f75a00671e3>\u001b[0m in \u001b[0;36mtrain\u001b[0;34m(epoch, model, loss_function, optimizer)\u001b[0m\n\u001b[1;32m     10\u001b[0m         \u001b[0mscore_tensor\u001b[0m \u001b[0;34m=\u001b[0m \u001b[0mtorch\u001b[0m\u001b[0;34m.\u001b[0m\u001b[0mtensor\u001b[0m\u001b[0;34m(\u001b[0m\u001b[0;34m[\u001b[0m\u001b[0mscore\u001b[0m\u001b[0;34m]\u001b[0m\u001b[0;34m)\u001b[0m\u001b[0;34m.\u001b[0m\u001b[0mto\u001b[0m\u001b[0;34m(\u001b[0m\u001b[0mdevice\u001b[0m\u001b[0;34m)\u001b[0m\u001b[0;34m\u001b[0m\u001b[0;34m\u001b[0m\u001b[0m\n\u001b[1;32m     11\u001b[0m \u001b[0;34m\u001b[0m\u001b[0m\n\u001b[0;32m---> 12\u001b[0;31m         \u001b[0mscore_output\u001b[0m \u001b[0;34m=\u001b[0m \u001b[0mmodel\u001b[0m\u001b[0;34m(\u001b[0m\u001b[0membedding\u001b[0m\u001b[0;34m)\u001b[0m\u001b[0;34m\u001b[0m\u001b[0;34m\u001b[0m\u001b[0m\n\u001b[0m\u001b[1;32m     13\u001b[0m \u001b[0;34m\u001b[0m\u001b[0m\n\u001b[1;32m     14\u001b[0m         \u001b[0mloss\u001b[0m \u001b[0;34m=\u001b[0m \u001b[0mloss_function\u001b[0m\u001b[0;34m(\u001b[0m\u001b[0mscore_output\u001b[0m\u001b[0;34m.\u001b[0m\u001b[0mview\u001b[0m\u001b[0;34m(\u001b[0m\u001b[0;34m(\u001b[0m\u001b[0;36m1\u001b[0m\u001b[0;34m,\u001b[0m \u001b[0;34m-\u001b[0m\u001b[0;36m1\u001b[0m\u001b[0;34m)\u001b[0m\u001b[0;34m)\u001b[0m\u001b[0;34m,\u001b[0m \u001b[0mscore_tensor\u001b[0m\u001b[0;34m.\u001b[0m\u001b[0mview\u001b[0m\u001b[0;34m(\u001b[0m\u001b[0;34m(\u001b[0m\u001b[0;36m1\u001b[0m\u001b[0;34m,\u001b[0m \u001b[0;34m-\u001b[0m\u001b[0;36m1\u001b[0m\u001b[0;34m)\u001b[0m\u001b[0;34m)\u001b[0m\u001b[0;34m)\u001b[0m\u001b[0;34m\u001b[0m\u001b[0;34m\u001b[0m\u001b[0m\n",
            "\u001b[0;32m/usr/local/lib/python3.6/dist-packages/torch/nn/modules/module.py\u001b[0m in \u001b[0;36m__call__\u001b[0;34m(self, *input, **kwargs)\u001b[0m\n\u001b[1;32m    530\u001b[0m             \u001b[0mresult\u001b[0m \u001b[0;34m=\u001b[0m \u001b[0mself\u001b[0m\u001b[0;34m.\u001b[0m\u001b[0m_slow_forward\u001b[0m\u001b[0;34m(\u001b[0m\u001b[0;34m*\u001b[0m\u001b[0minput\u001b[0m\u001b[0;34m,\u001b[0m \u001b[0;34m**\u001b[0m\u001b[0mkwargs\u001b[0m\u001b[0;34m)\u001b[0m\u001b[0;34m\u001b[0m\u001b[0;34m\u001b[0m\u001b[0m\n\u001b[1;32m    531\u001b[0m         \u001b[0;32melse\u001b[0m\u001b[0;34m:\u001b[0m\u001b[0;34m\u001b[0m\u001b[0;34m\u001b[0m\u001b[0m\n\u001b[0;32m--> 532\u001b[0;31m             \u001b[0mresult\u001b[0m \u001b[0;34m=\u001b[0m \u001b[0mself\u001b[0m\u001b[0;34m.\u001b[0m\u001b[0mforward\u001b[0m\u001b[0;34m(\u001b[0m\u001b[0;34m*\u001b[0m\u001b[0minput\u001b[0m\u001b[0;34m,\u001b[0m \u001b[0;34m**\u001b[0m\u001b[0mkwargs\u001b[0m\u001b[0;34m)\u001b[0m\u001b[0;34m\u001b[0m\u001b[0;34m\u001b[0m\u001b[0m\n\u001b[0m\u001b[1;32m    533\u001b[0m         \u001b[0;32mfor\u001b[0m \u001b[0mhook\u001b[0m \u001b[0;32min\u001b[0m \u001b[0mself\u001b[0m\u001b[0;34m.\u001b[0m\u001b[0m_forward_hooks\u001b[0m\u001b[0;34m.\u001b[0m\u001b[0mvalues\u001b[0m\u001b[0;34m(\u001b[0m\u001b[0;34m)\u001b[0m\u001b[0;34m:\u001b[0m\u001b[0;34m\u001b[0m\u001b[0;34m\u001b[0m\u001b[0m\n\u001b[1;32m    534\u001b[0m             \u001b[0mhook_result\u001b[0m \u001b[0;34m=\u001b[0m \u001b[0mhook\u001b[0m\u001b[0;34m(\u001b[0m\u001b[0mself\u001b[0m\u001b[0;34m,\u001b[0m \u001b[0minput\u001b[0m\u001b[0;34m,\u001b[0m \u001b[0mresult\u001b[0m\u001b[0;34m)\u001b[0m\u001b[0;34m\u001b[0m\u001b[0;34m\u001b[0m\u001b[0m\n",
            "\u001b[0;32m/content/drive/My Drive/iwt-wot/model.py\u001b[0m in \u001b[0;36mforward\u001b[0;34m(self, encoded_sentence)\u001b[0m\n\u001b[1;32m     19\u001b[0m     \u001b[0;32mdef\u001b[0m \u001b[0mforward\u001b[0m\u001b[0;34m(\u001b[0m\u001b[0mself\u001b[0m\u001b[0;34m,\u001b[0m \u001b[0mencoded_sentence\u001b[0m\u001b[0;34m)\u001b[0m\u001b[0;34m:\u001b[0m\u001b[0;34m\u001b[0m\u001b[0;34m\u001b[0m\u001b[0m\n\u001b[1;32m     20\u001b[0m \u001b[0;34m\u001b[0m\u001b[0m\n\u001b[0;32m---> 21\u001b[0;31m         \u001b[0m_\u001b[0m\u001b[0;34m,\u001b[0m \u001b[0;34m(\u001b[0m\u001b[0mlstm_hn\u001b[0m\u001b[0;34m,\u001b[0m \u001b[0m_\u001b[0m\u001b[0;34m)\u001b[0m \u001b[0;34m=\u001b[0m \u001b[0mself\u001b[0m\u001b[0;34m.\u001b[0m\u001b[0mlstm\u001b[0m\u001b[0;34m(\u001b[0m\u001b[0mencoded_sentence\u001b[0m\u001b[0;34m.\u001b[0m\u001b[0mview\u001b[0m\u001b[0;34m(\u001b[0m\u001b[0;34m-\u001b[0m\u001b[0;36m1\u001b[0m\u001b[0;34m,\u001b[0m \u001b[0;36m1\u001b[0m\u001b[0;34m,\u001b[0m \u001b[0mEMBEDDING_DIM\u001b[0m\u001b[0;34m)\u001b[0m\u001b[0;34m)\u001b[0m\u001b[0;34m\u001b[0m\u001b[0;34m\u001b[0m\u001b[0m\n\u001b[0m\u001b[1;32m     22\u001b[0m         \u001b[0mdecoded\u001b[0m \u001b[0;34m=\u001b[0m \u001b[0mself\u001b[0m\u001b[0;34m.\u001b[0m\u001b[0mdecoder\u001b[0m\u001b[0;34m(\u001b[0m\u001b[0mlstm_hn\u001b[0m\u001b[0;34m.\u001b[0m\u001b[0mview\u001b[0m\u001b[0;34m(\u001b[0m\u001b[0mself\u001b[0m\u001b[0;34m.\u001b[0m\u001b[0mhidden_dim\u001b[0m\u001b[0;34m)\u001b[0m\u001b[0;34m)\u001b[0m\u001b[0;34m\u001b[0m\u001b[0;34m\u001b[0m\u001b[0m\n\u001b[1;32m     23\u001b[0m         \u001b[0mprobability_vector\u001b[0m \u001b[0;34m=\u001b[0m \u001b[0mself\u001b[0m\u001b[0;34m.\u001b[0m\u001b[0msoftmax_layer\u001b[0m\u001b[0;34m(\u001b[0m\u001b[0mdecoded\u001b[0m\u001b[0;34m)\u001b[0m\u001b[0;34m\u001b[0m\u001b[0;34m\u001b[0m\u001b[0m\n",
            "\u001b[0;32m/usr/local/lib/python3.6/dist-packages/torch/nn/modules/module.py\u001b[0m in \u001b[0;36m__call__\u001b[0;34m(self, *input, **kwargs)\u001b[0m\n\u001b[1;32m    530\u001b[0m             \u001b[0mresult\u001b[0m \u001b[0;34m=\u001b[0m \u001b[0mself\u001b[0m\u001b[0;34m.\u001b[0m\u001b[0m_slow_forward\u001b[0m\u001b[0;34m(\u001b[0m\u001b[0;34m*\u001b[0m\u001b[0minput\u001b[0m\u001b[0;34m,\u001b[0m \u001b[0;34m**\u001b[0m\u001b[0mkwargs\u001b[0m\u001b[0;34m)\u001b[0m\u001b[0;34m\u001b[0m\u001b[0;34m\u001b[0m\u001b[0m\n\u001b[1;32m    531\u001b[0m         \u001b[0;32melse\u001b[0m\u001b[0;34m:\u001b[0m\u001b[0;34m\u001b[0m\u001b[0;34m\u001b[0m\u001b[0m\n\u001b[0;32m--> 532\u001b[0;31m             \u001b[0mresult\u001b[0m \u001b[0;34m=\u001b[0m \u001b[0mself\u001b[0m\u001b[0;34m.\u001b[0m\u001b[0mforward\u001b[0m\u001b[0;34m(\u001b[0m\u001b[0;34m*\u001b[0m\u001b[0minput\u001b[0m\u001b[0;34m,\u001b[0m \u001b[0;34m**\u001b[0m\u001b[0mkwargs\u001b[0m\u001b[0;34m)\u001b[0m\u001b[0;34m\u001b[0m\u001b[0;34m\u001b[0m\u001b[0m\n\u001b[0m\u001b[1;32m    533\u001b[0m         \u001b[0;32mfor\u001b[0m \u001b[0mhook\u001b[0m \u001b[0;32min\u001b[0m \u001b[0mself\u001b[0m\u001b[0;34m.\u001b[0m\u001b[0m_forward_hooks\u001b[0m\u001b[0;34m.\u001b[0m\u001b[0mvalues\u001b[0m\u001b[0;34m(\u001b[0m\u001b[0;34m)\u001b[0m\u001b[0;34m:\u001b[0m\u001b[0;34m\u001b[0m\u001b[0;34m\u001b[0m\u001b[0m\n\u001b[1;32m    534\u001b[0m             \u001b[0mhook_result\u001b[0m \u001b[0;34m=\u001b[0m \u001b[0mhook\u001b[0m\u001b[0;34m(\u001b[0m\u001b[0mself\u001b[0m\u001b[0;34m,\u001b[0m \u001b[0minput\u001b[0m\u001b[0;34m,\u001b[0m \u001b[0mresult\u001b[0m\u001b[0;34m)\u001b[0m\u001b[0;34m\u001b[0m\u001b[0;34m\u001b[0m\u001b[0m\n",
            "\u001b[0;32m/usr/local/lib/python3.6/dist-packages/torch/nn/modules/rnn.py\u001b[0m in \u001b[0;36mforward\u001b[0;34m(self, input, hx)\u001b[0m\n\u001b[1;32m    547\u001b[0m             zeros = torch.zeros(self.num_layers * num_directions,\n\u001b[1;32m    548\u001b[0m                                 \u001b[0mmax_batch_size\u001b[0m\u001b[0;34m,\u001b[0m \u001b[0mself\u001b[0m\u001b[0;34m.\u001b[0m\u001b[0mhidden_size\u001b[0m\u001b[0;34m,\u001b[0m\u001b[0;34m\u001b[0m\u001b[0;34m\u001b[0m\u001b[0m\n\u001b[0;32m--> 549\u001b[0;31m                                 dtype=input.dtype, device=input.device)\n\u001b[0m\u001b[1;32m    550\u001b[0m             \u001b[0mhx\u001b[0m \u001b[0;34m=\u001b[0m \u001b[0;34m(\u001b[0m\u001b[0mzeros\u001b[0m\u001b[0;34m,\u001b[0m \u001b[0mzeros\u001b[0m\u001b[0;34m)\u001b[0m\u001b[0;34m\u001b[0m\u001b[0;34m\u001b[0m\u001b[0m\n\u001b[1;32m    551\u001b[0m         \u001b[0;32melse\u001b[0m\u001b[0;34m:\u001b[0m\u001b[0;34m\u001b[0m\u001b[0;34m\u001b[0m\u001b[0m\n",
            "\u001b[0;31mKeyboardInterrupt\u001b[0m: "
          ]
        }
      ]
    },
    {
      "cell_type": "code",
      "metadata": {
        "id": "e68fVoOFxbsU",
        "colab_type": "code",
        "colab": {}
      },
      "source": [
        ""
      ],
      "execution_count": 0,
      "outputs": []
    },
    {
      "cell_type": "markdown",
      "metadata": {
        "id": "XVynVvpMemBx",
        "colab_type": "text"
      },
      "source": [
        "## Model 3\n",
        "\n",
        "Training for model 3 for sub-task 1"
      ]
    },
    {
      "cell_type": "code",
      "metadata": {
        "colab_type": "code",
        "id": "Z_LH3zad2BzJ",
        "colab": {}
      },
      "source": [
        "from model import Model3\n",
        "from preprocessing import model3preprocessing, TASK_1, EXTRA_TRAIN_TASK_1"
      ],
      "execution_count": 0,
      "outputs": []
    },
    {
      "cell_type": "code",
      "metadata": {
        "colab_type": "code",
        "outputId": "0dab1750-4541-4372-acc7-7ba3a62ade2c",
        "id": "ROHOGbyM2H-6",
        "colab": {
          "base_uri": "https://localhost:8080/",
          "height": 68
        }
      },
      "source": [
        "print('about to load data')\n",
        "training_data = model3preprocessing([DRIVE_DIR / TASK_1 / 'train.csv', DRIVE_DIR / EXTRA_TRAIN_TASK_1])\n",
        "print('loaded training data')\n",
        "val_data = model3preprocessing([DRIVE_DIR / TASK_1 / 'dev.csv'])\n",
        "print('loaded val data')"
      ],
      "execution_count": 45,
      "outputs": [
        {
          "output_type": "stream",
          "text": [
            "about to load data\n",
            "loaded training data\n",
            "loaded val data\n"
          ],
          "name": "stdout"
        }
      ]
    },
    {
      "cell_type": "code",
      "metadata": {
        "colab_type": "code",
        "id": "BMa-FxQa2H_B",
        "colab": {}
      },
      "source": [
        "def train(epoch, model, loss_function, optimizer):\n",
        "    train_loss = 0\n",
        "    train_examples = 0\n",
        "    square_error = 0\n",
        "\n",
        "    for originalSent, newSent, score in training_data:\n",
        "        model.zero_grad()\n",
        "\n",
        "        embedding1 = torch.tensor(embed.embed_sentence(originalSent)).to(device)\n",
        "        embedding2 = torch.tensor(embed.embed_sentence(newSent)).to(device)\n",
        "        score_tensor = torch.tensor([score]).to(device)\n",
        "\n",
        "        score_output = model(embedding1, embedding2)\n",
        "        \n",
        "        loss = loss_function(score_output.view((1, -1)), score_tensor.view((1, -1)))\n",
        "        train_loss += loss.item()\n",
        "\n",
        "        square_error += (score_output.item() - score)**2\n",
        "\n",
        "        loss.backward()\n",
        "        optimizer.step()\n",
        "\n",
        "        train_examples += 1\n",
        "\n",
        "    train_rmse = math.sqrt(square_error / train_examples)\n",
        "    avg_train_loss = train_loss / train_examples\n",
        "    avg_val_loss, val_rmse = evaluate(model, loss_function, optimizer)\n",
        "\n",
        "    print(\"Epoch: {}/{}\\tAvg Train Loss: {:.4f}\\tAvg Val Loss: {:.4f}\\t Train RMSE: {:.4f}\\t Val RMSE: {:.4f}\".format(epoch,\n",
        "                                                                      EPOCHS,\n",
        "                                                                      avg_train_loss,\n",
        "                                                                      avg_val_loss,\n",
        "                                                                      train_rmse,\n",
        "                                                                      val_rmse))"
      ],
      "execution_count": 0,
      "outputs": []
    },
    {
      "cell_type": "code",
      "metadata": {
        "colab_type": "code",
        "id": "pIKioVF82H_G",
        "colab": {}
      },
      "source": [
        "def evaluate(model, loss_function, optimizer):\n",
        "  # returns:: avg_val_loss (float)\n",
        "  # returns:: val_accuracy (float)\n",
        "    val_loss = 0\n",
        "    square_error = 0\n",
        "    val_examples = 0\n",
        "    with torch.no_grad():\n",
        "        for originalSent, newSent, score in val_data:\n",
        "            embedding1 = torch.tensor(embed.embed_sentence(originalSent)).to(device)\n",
        "            embedding2 = torch.tensor(embed.embed_sentence(newSent)).to(device)\n",
        "            score_tensor = torch.tensor([score]).to(device)\n",
        "            score_output = model(embedding1, embedding2)\n",
        "\n",
        "            loss = loss_function(score_output.view((1, -1)), score_tensor.view((1, -1)))\n",
        "            val_loss += loss.item()\n",
        "\n",
        "            square_error += (score_output.item() - score)**2\n",
        "\n",
        "            val_examples += 1\n",
        "\n",
        "    rmse = math.sqrt(square_error / val_examples)\n",
        "    avg_val_loss = val_loss / val_examples\n",
        "    return avg_val_loss, rmse"
      ],
      "execution_count": 0,
      "outputs": []
    },
    {
      "cell_type": "code",
      "metadata": {
        "colab_type": "code",
        "outputId": "9a001b84-1c90-4002-a35d-e351664a3751",
        "id": "H-Rh66bc2H_K",
        "colab": {
          "base_uri": "https://localhost:8080/",
          "height": 611
        }
      },
      "source": [
        "HIDDEN_DIM = 3\n",
        "LEARNING_RATE = 0.18\n",
        "LSTM_LAYERS = 1\n",
        "DROPOUT = 0\n",
        "EPOCHS = 30\n",
        "\n",
        "print(device)\n",
        "model3 = Model3(HIDDEN_DIM, LSTM_LAYERS, DROPOUT).to(device)\n",
        "print(f'model loaded to device')\n",
        "optimizer = torch.optim.SGD(model3.parameters(), lr=LEARNING_RATE)\n",
        "\n",
        "loss_function = nn.MSELoss()\n",
        "\n",
        "\n",
        "for epoch in range(1, EPOCHS + 1):\n",
        "    train(epoch, model3, loss_function, optimizer)"
      ],
      "execution_count": 49,
      "outputs": [
        {
          "output_type": "stream",
          "text": [
            "cuda\n",
            "model loaded to device\n",
            "Epoch: 1/30\tAvg Train Loss: 0.3801\tAvg Val Loss: 0.3777\t Train RMSE: 0.6165\t Val RMSE: 0.6146\n",
            "Epoch: 2/30\tAvg Train Loss: 0.3755\tAvg Val Loss: 0.3696\t Train RMSE: 0.6128\t Val RMSE: 0.6080\n",
            "Epoch: 3/30\tAvg Train Loss: 0.3677\tAvg Val Loss: 0.3601\t Train RMSE: 0.6064\t Val RMSE: 0.6001\n",
            "Epoch: 4/30\tAvg Train Loss: 0.3545\tAvg Val Loss: 0.3570\t Train RMSE: 0.5954\t Val RMSE: 0.5975\n",
            "Epoch: 5/30\tAvg Train Loss: 0.3433\tAvg Val Loss: 0.3485\t Train RMSE: 0.5859\t Val RMSE: 0.5904\n",
            "Epoch: 6/30\tAvg Train Loss: 0.3337\tAvg Val Loss: 0.3416\t Train RMSE: 0.5777\t Val RMSE: 0.5844\n",
            "Epoch: 7/30\tAvg Train Loss: 0.3262\tAvg Val Loss: 0.3362\t Train RMSE: 0.5711\t Val RMSE: 0.5798\n",
            "Epoch: 8/30\tAvg Train Loss: 0.3203\tAvg Val Loss: 0.3321\t Train RMSE: 0.5660\t Val RMSE: 0.5763\n",
            "Epoch: 9/30\tAvg Train Loss: 0.3155\tAvg Val Loss: 0.3291\t Train RMSE: 0.5617\t Val RMSE: 0.5737\n",
            "Epoch: 10/30\tAvg Train Loss: 0.3115\tAvg Val Loss: 0.3271\t Train RMSE: 0.5581\t Val RMSE: 0.5719\n",
            "Epoch: 11/30\tAvg Train Loss: 0.3079\tAvg Val Loss: 0.3266\t Train RMSE: 0.5549\t Val RMSE: 0.5715\n",
            "Epoch: 12/30\tAvg Train Loss: 0.3048\tAvg Val Loss: 0.3286\t Train RMSE: 0.5521\t Val RMSE: 0.5732\n",
            "Epoch: 13/30\tAvg Train Loss: 0.3020\tAvg Val Loss: 0.3307\t Train RMSE: 0.5496\t Val RMSE: 0.5750\n",
            "Epoch: 14/30\tAvg Train Loss: 0.3251\tAvg Val Loss: 0.3463\t Train RMSE: 0.5702\t Val RMSE: 0.5885\n"
          ],
          "name": "stdout"
        },
        {
          "output_type": "error",
          "ename": "KeyboardInterrupt",
          "evalue": "ignored",
          "traceback": [
            "\u001b[0;31m---------------------------------------------------------------------------\u001b[0m",
            "\u001b[0;31mKeyboardInterrupt\u001b[0m                         Traceback (most recent call last)",
            "\u001b[0;32m<ipython-input-49-393edbe267ee>\u001b[0m in \u001b[0;36m<module>\u001b[0;34m()\u001b[0m\n\u001b[1;32m     14\u001b[0m \u001b[0;34m\u001b[0m\u001b[0m\n\u001b[1;32m     15\u001b[0m \u001b[0;32mfor\u001b[0m \u001b[0mepoch\u001b[0m \u001b[0;32min\u001b[0m \u001b[0mrange\u001b[0m\u001b[0;34m(\u001b[0m\u001b[0;36m1\u001b[0m\u001b[0;34m,\u001b[0m \u001b[0mEPOCHS\u001b[0m \u001b[0;34m+\u001b[0m \u001b[0;36m1\u001b[0m\u001b[0;34m)\u001b[0m\u001b[0;34m:\u001b[0m\u001b[0;34m\u001b[0m\u001b[0;34m\u001b[0m\u001b[0m\n\u001b[0;32m---> 16\u001b[0;31m     \u001b[0mtrain\u001b[0m\u001b[0;34m(\u001b[0m\u001b[0mepoch\u001b[0m\u001b[0;34m,\u001b[0m \u001b[0mmodel3\u001b[0m\u001b[0;34m,\u001b[0m \u001b[0mloss_function\u001b[0m\u001b[0;34m,\u001b[0m \u001b[0moptimizer\u001b[0m\u001b[0;34m)\u001b[0m\u001b[0;34m\u001b[0m\u001b[0;34m\u001b[0m\u001b[0m\n\u001b[0m",
            "\u001b[0;32m<ipython-input-46-75e58ea44a88>\u001b[0m in \u001b[0;36mtrain\u001b[0;34m(epoch, model, loss_function, optimizer)\u001b[0m\n\u001b[1;32m     11\u001b[0m         \u001b[0mscore_tensor\u001b[0m \u001b[0;34m=\u001b[0m \u001b[0mtorch\u001b[0m\u001b[0;34m.\u001b[0m\u001b[0mtensor\u001b[0m\u001b[0;34m(\u001b[0m\u001b[0;34m[\u001b[0m\u001b[0mscore\u001b[0m\u001b[0;34m]\u001b[0m\u001b[0;34m)\u001b[0m\u001b[0;34m.\u001b[0m\u001b[0mto\u001b[0m\u001b[0;34m(\u001b[0m\u001b[0mdevice\u001b[0m\u001b[0;34m)\u001b[0m\u001b[0;34m\u001b[0m\u001b[0;34m\u001b[0m\u001b[0m\n\u001b[1;32m     12\u001b[0m \u001b[0;34m\u001b[0m\u001b[0m\n\u001b[0;32m---> 13\u001b[0;31m         \u001b[0mscore_output\u001b[0m \u001b[0;34m=\u001b[0m \u001b[0mmodel\u001b[0m\u001b[0;34m(\u001b[0m\u001b[0membedding1\u001b[0m\u001b[0;34m,\u001b[0m \u001b[0membedding2\u001b[0m\u001b[0;34m)\u001b[0m\u001b[0;34m\u001b[0m\u001b[0;34m\u001b[0m\u001b[0m\n\u001b[0m\u001b[1;32m     14\u001b[0m \u001b[0;34m\u001b[0m\u001b[0m\n\u001b[1;32m     15\u001b[0m         \u001b[0mloss\u001b[0m \u001b[0;34m=\u001b[0m \u001b[0mloss_function\u001b[0m\u001b[0;34m(\u001b[0m\u001b[0mscore_output\u001b[0m\u001b[0;34m.\u001b[0m\u001b[0mview\u001b[0m\u001b[0;34m(\u001b[0m\u001b[0;34m(\u001b[0m\u001b[0;36m1\u001b[0m\u001b[0;34m,\u001b[0m \u001b[0;34m-\u001b[0m\u001b[0;36m1\u001b[0m\u001b[0;34m)\u001b[0m\u001b[0;34m)\u001b[0m\u001b[0;34m,\u001b[0m \u001b[0mscore_tensor\u001b[0m\u001b[0;34m.\u001b[0m\u001b[0mview\u001b[0m\u001b[0;34m(\u001b[0m\u001b[0;34m(\u001b[0m\u001b[0;36m1\u001b[0m\u001b[0;34m,\u001b[0m \u001b[0;34m-\u001b[0m\u001b[0;36m1\u001b[0m\u001b[0;34m)\u001b[0m\u001b[0;34m)\u001b[0m\u001b[0;34m)\u001b[0m\u001b[0;34m\u001b[0m\u001b[0;34m\u001b[0m\u001b[0m\n",
            "\u001b[0;32m/usr/local/lib/python3.6/dist-packages/torch/nn/modules/module.py\u001b[0m in \u001b[0;36m__call__\u001b[0;34m(self, *input, **kwargs)\u001b[0m\n\u001b[1;32m    530\u001b[0m             \u001b[0mresult\u001b[0m \u001b[0;34m=\u001b[0m \u001b[0mself\u001b[0m\u001b[0;34m.\u001b[0m\u001b[0m_slow_forward\u001b[0m\u001b[0;34m(\u001b[0m\u001b[0;34m*\u001b[0m\u001b[0minput\u001b[0m\u001b[0;34m,\u001b[0m \u001b[0;34m**\u001b[0m\u001b[0mkwargs\u001b[0m\u001b[0;34m)\u001b[0m\u001b[0;34m\u001b[0m\u001b[0;34m\u001b[0m\u001b[0m\n\u001b[1;32m    531\u001b[0m         \u001b[0;32melse\u001b[0m\u001b[0;34m:\u001b[0m\u001b[0;34m\u001b[0m\u001b[0;34m\u001b[0m\u001b[0m\n\u001b[0;32m--> 532\u001b[0;31m             \u001b[0mresult\u001b[0m \u001b[0;34m=\u001b[0m \u001b[0mself\u001b[0m\u001b[0;34m.\u001b[0m\u001b[0mforward\u001b[0m\u001b[0;34m(\u001b[0m\u001b[0;34m*\u001b[0m\u001b[0minput\u001b[0m\u001b[0;34m,\u001b[0m \u001b[0;34m**\u001b[0m\u001b[0mkwargs\u001b[0m\u001b[0;34m)\u001b[0m\u001b[0;34m\u001b[0m\u001b[0;34m\u001b[0m\u001b[0m\n\u001b[0m\u001b[1;32m    533\u001b[0m         \u001b[0;32mfor\u001b[0m \u001b[0mhook\u001b[0m \u001b[0;32min\u001b[0m \u001b[0mself\u001b[0m\u001b[0;34m.\u001b[0m\u001b[0m_forward_hooks\u001b[0m\u001b[0;34m.\u001b[0m\u001b[0mvalues\u001b[0m\u001b[0;34m(\u001b[0m\u001b[0;34m)\u001b[0m\u001b[0;34m:\u001b[0m\u001b[0;34m\u001b[0m\u001b[0;34m\u001b[0m\u001b[0m\n\u001b[1;32m    534\u001b[0m             \u001b[0mhook_result\u001b[0m \u001b[0;34m=\u001b[0m \u001b[0mhook\u001b[0m\u001b[0;34m(\u001b[0m\u001b[0mself\u001b[0m\u001b[0;34m,\u001b[0m \u001b[0minput\u001b[0m\u001b[0;34m,\u001b[0m \u001b[0mresult\u001b[0m\u001b[0;34m)\u001b[0m\u001b[0;34m\u001b[0m\u001b[0;34m\u001b[0m\u001b[0m\n",
            "\u001b[0;32m/content/drive/My Drive/iwt-wot/model.py\u001b[0m in \u001b[0;36mforward\u001b[0;34m(self, encoded_sentence1, encoded_sentence2)\u001b[0m\n\u001b[1;32m     41\u001b[0m     \u001b[0;32mdef\u001b[0m \u001b[0mforward\u001b[0m\u001b[0;34m(\u001b[0m\u001b[0mself\u001b[0m\u001b[0;34m,\u001b[0m \u001b[0mencoded_sentence1\u001b[0m\u001b[0;34m,\u001b[0m \u001b[0mencoded_sentence2\u001b[0m\u001b[0;34m)\u001b[0m\u001b[0;34m:\u001b[0m\u001b[0;34m\u001b[0m\u001b[0;34m\u001b[0m\u001b[0m\n\u001b[1;32m     42\u001b[0m \u001b[0;34m\u001b[0m\u001b[0m\n\u001b[0;32m---> 43\u001b[0;31m         \u001b[0m_\u001b[0m\u001b[0;34m,\u001b[0m \u001b[0;34m(\u001b[0m\u001b[0mlstm_hn1\u001b[0m\u001b[0;34m,\u001b[0m \u001b[0m_\u001b[0m\u001b[0;34m)\u001b[0m \u001b[0;34m=\u001b[0m \u001b[0mself\u001b[0m\u001b[0;34m.\u001b[0m\u001b[0mlstm1\u001b[0m\u001b[0;34m(\u001b[0m\u001b[0mencoded_sentence1\u001b[0m\u001b[0;34m.\u001b[0m\u001b[0mview\u001b[0m\u001b[0;34m(\u001b[0m\u001b[0;34m-\u001b[0m\u001b[0;36m1\u001b[0m\u001b[0;34m,\u001b[0m \u001b[0;36m1\u001b[0m\u001b[0;34m,\u001b[0m \u001b[0mEMBEDDING_DIM\u001b[0m\u001b[0;34m)\u001b[0m\u001b[0;34m)\u001b[0m\u001b[0;34m\u001b[0m\u001b[0;34m\u001b[0m\u001b[0m\n\u001b[0m\u001b[1;32m     44\u001b[0m         \u001b[0m_\u001b[0m\u001b[0;34m,\u001b[0m \u001b[0;34m(\u001b[0m\u001b[0mlstm_hn2\u001b[0m\u001b[0;34m,\u001b[0m \u001b[0m_\u001b[0m\u001b[0;34m)\u001b[0m \u001b[0;34m=\u001b[0m \u001b[0mself\u001b[0m\u001b[0;34m.\u001b[0m\u001b[0mlstm2\u001b[0m\u001b[0;34m(\u001b[0m\u001b[0mencoded_sentence2\u001b[0m\u001b[0;34m.\u001b[0m\u001b[0mview\u001b[0m\u001b[0;34m(\u001b[0m\u001b[0;34m-\u001b[0m\u001b[0;36m1\u001b[0m\u001b[0;34m,\u001b[0m \u001b[0;36m1\u001b[0m\u001b[0;34m,\u001b[0m \u001b[0mEMBEDDING_DIM\u001b[0m\u001b[0;34m)\u001b[0m\u001b[0;34m)\u001b[0m\u001b[0;34m\u001b[0m\u001b[0;34m\u001b[0m\u001b[0m\n\u001b[1;32m     45\u001b[0m \u001b[0;34m\u001b[0m\u001b[0m\n",
            "\u001b[0;32m/usr/local/lib/python3.6/dist-packages/torch/nn/modules/module.py\u001b[0m in \u001b[0;36m__call__\u001b[0;34m(self, *input, **kwargs)\u001b[0m\n\u001b[1;32m    530\u001b[0m             \u001b[0mresult\u001b[0m \u001b[0;34m=\u001b[0m \u001b[0mself\u001b[0m\u001b[0;34m.\u001b[0m\u001b[0m_slow_forward\u001b[0m\u001b[0;34m(\u001b[0m\u001b[0;34m*\u001b[0m\u001b[0minput\u001b[0m\u001b[0;34m,\u001b[0m \u001b[0;34m**\u001b[0m\u001b[0mkwargs\u001b[0m\u001b[0;34m)\u001b[0m\u001b[0;34m\u001b[0m\u001b[0;34m\u001b[0m\u001b[0m\n\u001b[1;32m    531\u001b[0m         \u001b[0;32melse\u001b[0m\u001b[0;34m:\u001b[0m\u001b[0;34m\u001b[0m\u001b[0;34m\u001b[0m\u001b[0m\n\u001b[0;32m--> 532\u001b[0;31m             \u001b[0mresult\u001b[0m \u001b[0;34m=\u001b[0m \u001b[0mself\u001b[0m\u001b[0;34m.\u001b[0m\u001b[0mforward\u001b[0m\u001b[0;34m(\u001b[0m\u001b[0;34m*\u001b[0m\u001b[0minput\u001b[0m\u001b[0;34m,\u001b[0m \u001b[0;34m**\u001b[0m\u001b[0mkwargs\u001b[0m\u001b[0;34m)\u001b[0m\u001b[0;34m\u001b[0m\u001b[0;34m\u001b[0m\u001b[0m\n\u001b[0m\u001b[1;32m    533\u001b[0m         \u001b[0;32mfor\u001b[0m \u001b[0mhook\u001b[0m \u001b[0;32min\u001b[0m \u001b[0mself\u001b[0m\u001b[0;34m.\u001b[0m\u001b[0m_forward_hooks\u001b[0m\u001b[0;34m.\u001b[0m\u001b[0mvalues\u001b[0m\u001b[0;34m(\u001b[0m\u001b[0;34m)\u001b[0m\u001b[0;34m:\u001b[0m\u001b[0;34m\u001b[0m\u001b[0;34m\u001b[0m\u001b[0m\n\u001b[1;32m    534\u001b[0m             \u001b[0mhook_result\u001b[0m \u001b[0;34m=\u001b[0m \u001b[0mhook\u001b[0m\u001b[0;34m(\u001b[0m\u001b[0mself\u001b[0m\u001b[0;34m,\u001b[0m \u001b[0minput\u001b[0m\u001b[0;34m,\u001b[0m \u001b[0mresult\u001b[0m\u001b[0;34m)\u001b[0m\u001b[0;34m\u001b[0m\u001b[0;34m\u001b[0m\u001b[0m\n",
            "\u001b[0;32m/usr/local/lib/python3.6/dist-packages/torch/nn/modules/rnn.py\u001b[0m in \u001b[0;36mforward\u001b[0;34m(self, input, hx)\u001b[0m\n\u001b[1;32m    557\u001b[0m         \u001b[0;32mif\u001b[0m \u001b[0mbatch_sizes\u001b[0m \u001b[0;32mis\u001b[0m \u001b[0;32mNone\u001b[0m\u001b[0;34m:\u001b[0m\u001b[0;34m\u001b[0m\u001b[0;34m\u001b[0m\u001b[0m\n\u001b[1;32m    558\u001b[0m             result = _VF.lstm(input, hx, self._flat_weights, self.bias, self.num_layers,\n\u001b[0;32m--> 559\u001b[0;31m                               self.dropout, self.training, self.bidirectional, self.batch_first)\n\u001b[0m\u001b[1;32m    560\u001b[0m         \u001b[0;32melse\u001b[0m\u001b[0;34m:\u001b[0m\u001b[0;34m\u001b[0m\u001b[0;34m\u001b[0m\u001b[0m\n\u001b[1;32m    561\u001b[0m             result = _VF.lstm(input, batch_sizes, hx, self._flat_weights, self.bias,\n",
            "\u001b[0;31mKeyboardInterrupt\u001b[0m: "
          ]
        }
      ]
    },
    {
      "cell_type": "code",
      "metadata": {
        "id": "dZ3TWs5H41je",
        "colab_type": "code",
        "colab": {}
      },
      "source": [
        ""
      ],
      "execution_count": 0,
      "outputs": []
    },
    {
      "cell_type": "markdown",
      "metadata": {
        "id": "HrLv9_m-lCDn",
        "colab_type": "text"
      },
      "source": [
        "## Testing for sub-task 1\n",
        "\n",
        "Below is our code for running models on the sub-task 1 test data."
      ]
    },
    {
      "cell_type": "markdown",
      "metadata": {
        "id": "fd8thDcbo8XA",
        "colab_type": "text"
      },
      "source": [
        "### Model 1"
      ]
    },
    {
      "cell_type": "code",
      "metadata": {
        "colab_type": "code",
        "id": "R3W1AbG3lGxc",
        "colab": {}
      },
      "source": [
        "from model import Model25 as Model1\n",
        "from preprocessing import model1preprocessing, task2preprocessing, TASK_1, EXTRA_TRAIN_TASK_1, TASK_2"
      ],
      "execution_count": 0,
      "outputs": []
    },
    {
      "cell_type": "code",
      "metadata": {
        "colab_type": "code",
        "outputId": "4544ea57-ca5c-4511-ae44-8f4452f21cad",
        "id": "IsQijgVjlGxi",
        "colab": {
          "base_uri": "https://localhost:8080/",
          "height": 68
        }
      },
      "source": [
        "print('about to load data')\n",
        "training_data = model1preprocessing([DRIVE_DIR / TASK_1 / 'train.csv', DRIVE_DIR / EXTRA_TRAIN_TASK_1, DRIVE_DIR / TASK_1 / 'dev.csv'])\n",
        "print('loaded training data')\n",
        "test_data = model1preprocessing([DRIVE_DIR / TASK_1 / 'test.csv'])\n",
        "print('loaded test data')"
      ],
      "execution_count": 76,
      "outputs": [
        {
          "output_type": "stream",
          "text": [
            "about to load data\n",
            "loaded training data\n",
            "loaded test data\n"
          ],
          "name": "stdout"
        }
      ]
    },
    {
      "cell_type": "code",
      "metadata": {
        "colab_type": "code",
        "id": "pU_fP2HllGxk",
        "colab": {}
      },
      "source": [
        "def train(epoch, model, loss_function, optimizer):\n",
        "    train_loss = 0\n",
        "    train_examples = 0\n",
        "    square_error = 0\n",
        "\n",
        "    for inputData, score in training_data[1::2]:\n",
        "        model.zero_grad()\n",
        "\n",
        "        embedding = torch.tensor(embed.embed_sentence(inputData)).to(device)\n",
        "        score_tensor = torch.tensor([score]).to(device)\n",
        "\n",
        "        score_output = model(embedding)\n",
        "        \n",
        "        loss = loss_function(score_output.view((1, -1)), score_tensor.view((1, -1)))\n",
        "        train_loss += loss.item()\n",
        "\n",
        "        square_error += (score_output.item() - score)**2\n",
        "\n",
        "        loss.backward()\n",
        "        optimizer.step()\n",
        "\n",
        "        train_examples += 1\n",
        "\n",
        "    train_rmse = math.sqrt(square_error / train_examples)\n",
        "    avg_train_loss = train_loss / train_examples\n",
        "    # avg_val_loss, val_rmse = evaluate(model, loss_function, optimizer)\n",
        "\n",
        "    print(\"Epoch: {}/{}\\tAvg Train Loss: {:.4f}\\t Train RMSE: {:.4f}\".format(epoch,\n",
        "                                                                      EPOCHS,\n",
        "                                                                      avg_train_loss,\n",
        "                                                                      train_rmse,\n",
        "                                                                      ))"
      ],
      "execution_count": 0,
      "outputs": []
    },
    {
      "cell_type": "code",
      "metadata": {
        "colab_type": "code",
        "outputId": "8f6fc794-289c-42e0-87cd-0697a28cac34",
        "id": "g5Ol1_p1lGxn",
        "colab": {
          "base_uri": "https://localhost:8080/",
          "height": 322
        }
      },
      "source": [
        "HIDDEN_DIM = 6\n",
        "LEARNING_RATE = 0.18\n",
        "LSTM_LAYERS = 1\n",
        "DROPOUT = 0\n",
        "EPOCHS = 16\n",
        "\n",
        "print(device)\n",
        "model1 = Model1(HIDDEN_DIM, LSTM_LAYERS, DROPOUT).to(device)\n",
        "print(f'model loaded to device')\n",
        "optimizer = torch.optim.SGD(model1.parameters(), lr=LEARNING_RATE)\n",
        "\n",
        "loss_function = nn.MSELoss()\n",
        "\n",
        "\n",
        "for epoch in range(1, EPOCHS + 1):\n",
        "    train(epoch, model1, loss_function, optimizer)"
      ],
      "execution_count": 78,
      "outputs": [
        {
          "output_type": "stream",
          "text": [
            "cuda\n",
            "model loaded to device\n",
            "Epoch: 1/16\tAvg Train Loss: 0.3802\t Train RMSE: 0.6166\n",
            "Epoch: 2/16\tAvg Train Loss: 0.3718\t Train RMSE: 0.6098\n",
            "Epoch: 3/16\tAvg Train Loss: 0.3587\t Train RMSE: 0.5989\n",
            "Epoch: 4/16\tAvg Train Loss: 0.3468\t Train RMSE: 0.5889\n",
            "Epoch: 5/16\tAvg Train Loss: 0.3389\t Train RMSE: 0.5821\n",
            "Epoch: 6/16\tAvg Train Loss: 0.3332\t Train RMSE: 0.5773\n",
            "Epoch: 7/16\tAvg Train Loss: 0.3288\t Train RMSE: 0.5734\n",
            "Epoch: 8/16\tAvg Train Loss: 0.3249\t Train RMSE: 0.5700\n",
            "Epoch: 9/16\tAvg Train Loss: 0.3216\t Train RMSE: 0.5671\n",
            "Epoch: 10/16\tAvg Train Loss: 0.3185\t Train RMSE: 0.5643\n",
            "Epoch: 11/16\tAvg Train Loss: 0.3152\t Train RMSE: 0.5615\n",
            "Epoch: 12/16\tAvg Train Loss: 0.3124\t Train RMSE: 0.5589\n",
            "Epoch: 13/16\tAvg Train Loss: 0.3097\t Train RMSE: 0.5565\n",
            "Epoch: 14/16\tAvg Train Loss: 0.3067\t Train RMSE: 0.5538\n",
            "Epoch: 15/16\tAvg Train Loss: 0.3039\t Train RMSE: 0.5513\n",
            "Epoch: 16/16\tAvg Train Loss: 0.3011\t Train RMSE: 0.5487\n"
          ],
          "name": "stdout"
        }
      ]
    },
    {
      "cell_type": "code",
      "metadata": {
        "colab_type": "code",
        "id": "ImTc-IztlGxm",
        "colab": {}
      },
      "source": [
        "def test_task1(model, loss_function, printErrors=False):\n",
        "    test_loss = 0\n",
        "    square_error = 0\n",
        "    test_examples = 0\n",
        "    errors = []\n",
        "    guesses = []\n",
        "    with torch.no_grad():\n",
        "        for inputData, score in test_data[1::2]:\n",
        "            embedding = torch.tensor(embed.embed_sentence(inputData)).to(device)\n",
        "            score_tensor = torch.tensor([score]).to(device)\n",
        "\n",
        "            score_output = model(embedding)\n",
        "\n",
        "            loss = loss_function(score_output.view((1, -1)), score_tensor.view((1, -1)))\n",
        "            test_loss += loss.item()\n",
        "\n",
        "            square_error += (score_output.item() - score)**2\n",
        "\n",
        "            errors.append(abs(score_output.item() - score))\n",
        "            guesses.append(score_output.item())\n",
        "\n",
        "            test_examples += 1\n",
        "\n",
        "    rmse = math.sqrt(square_error / test_examples)\n",
        "    avg_test_loss = test_loss / test_examples\n",
        "\n",
        "    if printErrors:\n",
        "      error_indices_sorted = sorted(range(len(errors)), key=lambda index: -errors[index])\n",
        "      for i in range(10):\n",
        "        index = error_indices_sorted[i]\n",
        "        print('Number ' + str(i))\n",
        "        print(errors[index])\n",
        "        print(test_data[2*index][0])\n",
        "        sentence, score = test_data[2 * index + 1]\n",
        "        print(sentence)\n",
        "        print(score)\n",
        "        print(guesses[index])\n",
        "        print()\n",
        "\n",
        "    return avg_test_loss, rmse"
      ],
      "execution_count": 0,
      "outputs": []
    },
    {
      "cell_type": "code",
      "metadata": {
        "id": "fEcvnGcxxhAu",
        "colab_type": "code",
        "outputId": "6e68fb43-8f6b-454c-9e73-9dec451a7bb0",
        "colab": {
          "base_uri": "https://localhost:8080/",
          "height": 34
        }
      },
      "source": [
        "test_task1(model1, loss_function)"
      ],
      "execution_count": 82,
      "outputs": [
        {
          "output_type": "execute_result",
          "data": {
            "text/plain": [
              "(0.32591401598185044, 0.5708887965698799)"
            ]
          },
          "metadata": {
            "tags": []
          },
          "execution_count": 82
        }
      ]
    },
    {
      "cell_type": "markdown",
      "metadata": {
        "id": "0zrzMC56F6aT",
        "colab_type": "text"
      },
      "source": [
        "### Model 2"
      ]
    },
    {
      "cell_type": "code",
      "metadata": {
        "colab_type": "code",
        "id": "fWAjJYF8GGfj",
        "colab": {}
      },
      "source": [
        "from model import Model25 as Model2\n",
        "from preprocessing import model2preprocessing, TASK_1, EXTRA_TRAIN_TASK_1"
      ],
      "execution_count": 0,
      "outputs": []
    },
    {
      "cell_type": "code",
      "metadata": {
        "colab_type": "code",
        "outputId": "789378ec-53bb-479c-c980-a0249e6da754",
        "id": "2wArOw8WGGfs",
        "colab": {
          "base_uri": "https://localhost:8080/",
          "height": 68
        }
      },
      "source": [
        "print('about to load data')\n",
        "training_data = model2preprocessing([DRIVE_DIR / TASK_1 / 'train.csv', DRIVE_DIR / EXTRA_TRAIN_TASK_1, DRIVE_DIR / TASK_1 / 'dev.csv'])\n",
        "print('loaded training data')\n",
        "test_data = model2preprocessing([DRIVE_DIR / TASK_1 / 'test.csv'])\n",
        "print('loaded test data')"
      ],
      "execution_count": 31,
      "outputs": [
        {
          "output_type": "stream",
          "text": [
            "about to load data\n",
            "loaded training data\n",
            "loaded test data\n"
          ],
          "name": "stdout"
        }
      ]
    },
    {
      "cell_type": "code",
      "metadata": {
        "colab_type": "code",
        "id": "MNpuvjn4GGfy",
        "colab": {}
      },
      "source": [
        "def train(epoch, model, loss_function, optimizer):\n",
        "    train_loss = 0\n",
        "    train_examples = 0\n",
        "    square_error = 0\n",
        "\n",
        "    for inputData, score in training_data:\n",
        "        model.zero_grad()\n",
        "\n",
        "        embedding = torch.tensor(embed.embed_sentence(inputData)).to(device)\n",
        "        score_tensor = torch.tensor([score]).to(device)\n",
        "\n",
        "        score_output = model(embedding)\n",
        "\n",
        "        loss = loss_function(score_output.view((1, -1)), score_tensor.view((1, -1)))\n",
        "        train_loss += loss.item()\n",
        "\n",
        "        square_error += (score_output.item() - score)**2\n",
        "\n",
        "        loss.backward()\n",
        "        optimizer.step()\n",
        "\n",
        "        train_examples += 1\n",
        "\n",
        "    train_rmse = math.sqrt(square_error / train_examples)\n",
        "    avg_train_loss = train_loss / train_examples\n",
        "\n",
        "    print(\"Epoch: {}/{}\\tAvg Train Loss: {:.4f}\\tTrain RMSE: {:.4f}\".format(epoch,\n",
        "                                                                      EPOCHS,\n",
        "                                                                      avg_train_loss,\n",
        "                                                                      train_rmse\n",
        "                                                                      ))"
      ],
      "execution_count": 0,
      "outputs": []
    },
    {
      "cell_type": "code",
      "metadata": {
        "colab_type": "code",
        "outputId": "d8f4cad6-b0e0-499c-dd45-6347be4746e7",
        "id": "jsctHgMGGGf7",
        "colab": {
          "base_uri": "https://localhost:8080/",
          "height": 288
        }
      },
      "source": [
        "HIDDEN_DIM = 6\n",
        "LEARNING_RATE = 0.2\n",
        "LSTM_LAYERS = 1\n",
        "DROPOUT = 0\n",
        "EPOCHS = 14\n",
        "\n",
        "print(device)\n",
        "model2 = Model2(HIDDEN_DIM, LSTM_LAYERS, DROPOUT).to(device)\n",
        "print(f'model loaded to device')\n",
        "optimizer = torch.optim.SGD(model2.parameters(), lr=LEARNING_RATE)\n",
        "\n",
        "loss_function = nn.MSELoss()\n",
        "\n",
        "t_rmses = []\n",
        "v_rmses = []\n",
        "\n",
        "for epoch in range(1, EPOCHS + 1):\n",
        "    train(epoch, model2, loss_function, optimizer)"
      ],
      "execution_count": 38,
      "outputs": [
        {
          "output_type": "stream",
          "text": [
            "cuda\n",
            "model loaded to device\n",
            "Epoch: 1/14\tAvg Train Loss: 0.3885\tTrain RMSE: 0.6233\n",
            "Epoch: 2/14\tAvg Train Loss: 0.3816\tTrain RMSE: 0.6177\n",
            "Epoch: 3/14\tAvg Train Loss: 0.3744\tTrain RMSE: 0.6119\n",
            "Epoch: 4/14\tAvg Train Loss: 0.3625\tTrain RMSE: 0.6020\n",
            "Epoch: 5/14\tAvg Train Loss: 0.3515\tTrain RMSE: 0.5928\n",
            "Epoch: 6/14\tAvg Train Loss: 0.3432\tTrain RMSE: 0.5858\n",
            "Epoch: 7/14\tAvg Train Loss: 0.3370\tTrain RMSE: 0.5805\n",
            "Epoch: 8/14\tAvg Train Loss: 0.3319\tTrain RMSE: 0.5761\n",
            "Epoch: 9/14\tAvg Train Loss: 0.3273\tTrain RMSE: 0.5721\n",
            "Epoch: 10/14\tAvg Train Loss: 0.3235\tTrain RMSE: 0.5688\n",
            "Epoch: 11/14\tAvg Train Loss: 0.3197\tTrain RMSE: 0.5654\n",
            "Epoch: 12/14\tAvg Train Loss: 0.3158\tTrain RMSE: 0.5620\n",
            "Epoch: 13/14\tAvg Train Loss: 0.3120\tTrain RMSE: 0.5585\n",
            "Epoch: 14/14\tAvg Train Loss: 0.3085\tTrain RMSE: 0.5554\n"
          ],
          "name": "stdout"
        }
      ]
    },
    {
      "cell_type": "code",
      "metadata": {
        "colab_type": "code",
        "id": "xUox19noGGf3",
        "colab": {}
      },
      "source": [
        "def test_task1(model, loss_function):\n",
        "    test_loss = 0\n",
        "    square_error = 0\n",
        "    test_examples = 0\n",
        "    with torch.no_grad():\n",
        "        for inputData, score in test_data:\n",
        "            embedding = torch.tensor(embed.embed_sentence(inputData)).to(device)\n",
        "            score_tensor = torch.tensor([score]).to(device)\n",
        " \n",
        "            score_output = model(embedding)\n",
        "\n",
        "            loss = loss_function(score_output.view((1, -1)), score_tensor.view((1, -1)))\n",
        "            test_loss += loss.item()\n",
        "\n",
        "            square_error += (score_output.item() - score)**2\n",
        "\n",
        "            test_examples += 1\n",
        "\n",
        "    rmse = math.sqrt(square_error / test_examples)\n",
        "    avg_test_loss = test_loss / test_examples\n",
        "    return avg_test_loss, rmse"
      ],
      "execution_count": 0,
      "outputs": []
    },
    {
      "cell_type": "code",
      "metadata": {
        "id": "whSuuo8gMSKd",
        "colab_type": "code",
        "colab": {
          "base_uri": "https://localhost:8080/",
          "height": 34
        },
        "outputId": "1dcaae8a-20bc-4ff5-a15e-f1d2cfa6d2f2"
      },
      "source": [
        "test_task1(model2, loss_function)"
      ],
      "execution_count": 40,
      "outputs": [
        {
          "output_type": "execute_result",
          "data": {
            "text/plain": [
              "(0.3204903787416706, 0.5661186969624548)"
            ]
          },
          "metadata": {
            "tags": []
          },
          "execution_count": 40
        }
      ]
    },
    {
      "cell_type": "markdown",
      "metadata": {
        "id": "SauO66QpIaJK",
        "colab_type": "text"
      },
      "source": [
        "### Model 3"
      ]
    },
    {
      "cell_type": "code",
      "metadata": {
        "colab_type": "code",
        "id": "xhIL1snmIkSK",
        "colab": {}
      },
      "source": [
        "from model import Model3\n",
        "from preprocessing import model3preprocessing, TASK_1, EXTRA_TRAIN_TASK_1"
      ],
      "execution_count": 0,
      "outputs": []
    },
    {
      "cell_type": "code",
      "metadata": {
        "colab_type": "code",
        "outputId": "181e6ed4-8924-4a79-e766-1116f8db0cd8",
        "id": "VjlA5MCwIkST",
        "colab": {
          "base_uri": "https://localhost:8080/",
          "height": 68
        }
      },
      "source": [
        "print('about to load data')\n",
        "training_data = model3preprocessing([DRIVE_DIR / TASK_1 / 'train.csv', DRIVE_DIR / EXTRA_TRAIN_TASK_1, DRIVE_DIR / TASK_1 / 'dev.csv'])\n",
        "print('loaded training data')\n",
        "test_data = model3preprocessing([DRIVE_DIR / TASK_1 / 'test.csv'])\n",
        "print('loaded test data')"
      ],
      "execution_count": 51,
      "outputs": [
        {
          "output_type": "stream",
          "text": [
            "about to load data\n",
            "loaded training data\n",
            "loaded test data\n"
          ],
          "name": "stdout"
        }
      ]
    },
    {
      "cell_type": "code",
      "metadata": {
        "colab_type": "code",
        "id": "udfUIjzPIkSa",
        "colab": {}
      },
      "source": [
        "def train(epoch, model, loss_function, optimizer):\n",
        "    train_loss = 0\n",
        "    train_examples = 0\n",
        "    square_error = 0\n",
        "\n",
        "    for originalSent, newSent, score in training_data:\n",
        "        model.zero_grad()\n",
        "\n",
        "        embedding1 = torch.tensor(embed.embed_sentence(originalSent)).to(device)\n",
        "        embedding2 = torch.tensor(embed.embed_sentence(newSent)).to(device)\n",
        "        score_tensor = torch.tensor([score]).to(device)\n",
        "\n",
        "        score_output = model(embedding1, embedding2)\n",
        "        \n",
        "        loss = loss_function(score_output.view((1, -1)), score_tensor.view((1, -1)))\n",
        "        train_loss += loss.item()\n",
        "\n",
        "        square_error += (score_output.item() - score)**2\n",
        "\n",
        "        loss.backward()\n",
        "        optimizer.step()\n",
        "\n",
        "        train_examples += 1\n",
        "\n",
        "    train_rmse = math.sqrt(square_error / train_examples)\n",
        "    avg_train_loss = train_loss / train_examples\n",
        "\n",
        "    print(\"Epoch: {}/{}\\tAvg Train Loss: {:.4f}\\t Train RMSE: {:.4f}\".format(epoch,\n",
        "                                                                      EPOCHS,\n",
        "                                                                      avg_train_loss,\n",
        "                                                                      train_rmse\n",
        "                                                                      ))"
      ],
      "execution_count": 0,
      "outputs": []
    },
    {
      "cell_type": "code",
      "metadata": {
        "colab_type": "code",
        "outputId": "599d4045-3654-4549-ae42-efa6e70ac70d",
        "id": "hNzQwUGYIkSj",
        "colab": {
          "base_uri": "https://localhost:8080/",
          "height": 254
        }
      },
      "source": [
        "HIDDEN_DIM = 3\n",
        "LEARNING_RATE = 0.18\n",
        "LSTM_LAYERS = 1\n",
        "DROPOUT = 0\n",
        "EPOCHS = 12\n",
        "\n",
        "print(device)\n",
        "model3 = Model3(HIDDEN_DIM, LSTM_LAYERS, DROPOUT).to(device)\n",
        "print(f'model loaded to device')\n",
        "optimizer = torch.optim.SGD(model3.parameters(), lr=LEARNING_RATE)\n",
        "# loss_function = nn.KLDivLoss(reduction='batchmean')\n",
        "loss_function = nn.MSELoss()\n",
        "\n",
        "\n",
        "for epoch in range(1, EPOCHS + 1):\n",
        "    train(epoch, model3, loss_function, optimizer)"
      ],
      "execution_count": 55,
      "outputs": [
        {
          "output_type": "stream",
          "text": [
            "cuda\n",
            "model loaded to device\n",
            "Epoch: 1/12\tAvg Train Loss: 0.3815\t Train RMSE: 0.6177\n",
            "Epoch: 2/12\tAvg Train Loss: 0.3727\t Train RMSE: 0.6105\n",
            "Epoch: 3/12\tAvg Train Loss: 0.3550\t Train RMSE: 0.5958\n",
            "Epoch: 4/12\tAvg Train Loss: 0.3434\t Train RMSE: 0.5860\n",
            "Epoch: 5/12\tAvg Train Loss: 0.3376\t Train RMSE: 0.5811\n",
            "Epoch: 6/12\tAvg Train Loss: 0.3335\t Train RMSE: 0.5775\n",
            "Epoch: 7/12\tAvg Train Loss: 0.3300\t Train RMSE: 0.5744\n",
            "Epoch: 8/12\tAvg Train Loss: 0.3267\t Train RMSE: 0.5715\n",
            "Epoch: 9/12\tAvg Train Loss: 0.3233\t Train RMSE: 0.5686\n",
            "Epoch: 10/12\tAvg Train Loss: 0.3200\t Train RMSE: 0.5657\n",
            "Epoch: 11/12\tAvg Train Loss: 0.3171\t Train RMSE: 0.5631\n",
            "Epoch: 12/12\tAvg Train Loss: 0.3143\t Train RMSE: 0.5606\n"
          ],
          "name": "stdout"
        }
      ]
    },
    {
      "cell_type": "code",
      "metadata": {
        "colab_type": "code",
        "id": "6NJFsYvOIkSf",
        "colab": {}
      },
      "source": [
        "def test_task1(model, loss_function):\n",
        "    test_loss = 0\n",
        "    square_error = 0\n",
        "    test_examples = 0\n",
        "    with torch.no_grad():\n",
        "        for originalSent, newSent, score in test_data:\n",
        "            embedding1 = torch.tensor(embed.embed_sentence(originalSent)).to(device)\n",
        "            embedding2 = torch.tensor(embed.embed_sentence(newSent)).to(device)\n",
        "            score_tensor = torch.tensor([score]).to(device)\n",
        "\n",
        "            score_output = model(embedding1, embedding2)\n",
        "\n",
        "            loss = loss_function(score_output.view((1, -1)), score_tensor.view((1, -1)))\n",
        "            test_loss += loss.item()\n",
        "\n",
        "            square_error += (score_output.item() - score)**2\n",
        "\n",
        "            test_examples += 1\n",
        "\n",
        "    rmse = math.sqrt(square_error / test_examples)\n",
        "    avg_test_loss = test_loss / test_examples\n",
        "    return avg_test_loss, rmse"
      ],
      "execution_count": 0,
      "outputs": []
    },
    {
      "cell_type": "code",
      "metadata": {
        "id": "IhqYDvr_eS83",
        "colab_type": "code",
        "colab": {
          "base_uri": "https://localhost:8080/",
          "height": 34
        },
        "outputId": "b837457d-8f7b-4a1f-d6ae-2a1747f947f7"
      },
      "source": [
        "test_task1(model3, loss_function)"
      ],
      "execution_count": 57,
      "outputs": [
        {
          "output_type": "execute_result",
          "data": {
            "text/plain": [
              "(0.35087820722193647, 0.5923497363270405)"
            ]
          },
          "metadata": {
            "tags": []
          },
          "execution_count": 57
        }
      ]
    },
    {
      "cell_type": "markdown",
      "metadata": {
        "id": "iO3FoSJbe-uo",
        "colab_type": "text"
      },
      "source": [
        "# Sub-task 2"
      ]
    },
    {
      "cell_type": "markdown",
      "metadata": {
        "id": "UlutUbbNfASF",
        "colab_type": "text"
      },
      "source": [
        "## Training for sub-task 2\n",
        "\n",
        "We simply use the validation data for sub-task 2 to train the MARGIN parameter."
      ]
    },
    {
      "cell_type": "code",
      "metadata": {
        "id": "BFG53k1pxiG4",
        "colab_type": "code",
        "colab": {}
      },
      "source": [
        "def test_task2(model, margin, printErrors=False):\n",
        "    test_correct = 0\n",
        "    test_examples = 0\n",
        "    scores1 = []\n",
        "    scores2 = []\n",
        "    predictions = []\n",
        "    confidences = []\n",
        "    with torch.no_grad():\n",
        "        for (_, input1, _, input2, label) in test_data_task2:\n",
        "            embedding1 = torch.tensor(embed.embed_sentence(input1)).to(device)\n",
        "            embedding2 = torch.tensor(embed.embed_sentence(input2)).to(device)\n",
        "\n",
        "            score_output1 = model(embedding1)\n",
        "            score_output2 = model(embedding2)\n",
        "\n",
        "            winner = 0\n",
        "            if score_output1.item() > score_output2.item() + margin:\n",
        "              winner = 1\n",
        "            elif score_output1.item() < score_output2.item() - margin:\n",
        "              winner = 2\n",
        "\n",
        "            scores1.append(score_output1.item())\n",
        "            scores2.append(score_output2.item())\n",
        "            confidences.append(abs(score_output1.item() - score_output2.item()))\n",
        "            predictions.append(winner)\n",
        "\n",
        "            if winner == label:\n",
        "              test_correct += 1\n",
        "\n",
        "            test_examples += 1\n",
        "\n",
        "    if printErrors:\n",
        "      confidence_indices_sorted = sorted(range(len(confidences)), key=lambda index: -confidences[index])\n",
        "      for i in range(10):\n",
        "        index = confidence_indices_sorted[i]\n",
        "        print('Number ' + str(i))\n",
        "        print(confidences[index])\n",
        "        (_, input1, _, input2, label) = test_data_task2[index]\n",
        "        print(input1)\n",
        "        print(scores1[index])\n",
        "        print(input2)\n",
        "        print(scores2[index])\n",
        "        print(predictions[index])\n",
        "        print(label)\n",
        "        print()\n",
        "\n",
        "    acc = test_correct / test_examples\n",
        "    return acc"
      ],
      "execution_count": 0,
      "outputs": []
    },
    {
      "cell_type": "code",
      "metadata": {
        "id": "qbtMlF6HMVR6",
        "colab_type": "code",
        "outputId": "3d07715c-3e20-40c4-f3b1-79cfaa7e14ca",
        "colab": {
          "base_uri": "https://localhost:8080/",
          "height": 51
        }
      },
      "source": [
        "print('about to load data')\n",
        "test_data_task2 = task2preprocessing([DRIVE_DIR / TASK_2 / 'dev.csv'])\n",
        "print('loaded test data')"
      ],
      "execution_count": 84,
      "outputs": [
        {
          "output_type": "stream",
          "text": [
            "about to load data\n",
            "loaded test data\n"
          ],
          "name": "stdout"
        }
      ]
    },
    {
      "cell_type": "code",
      "metadata": {
        "id": "NtGJabnvOY-d",
        "colab_type": "code",
        "outputId": "83b321b3-be37-4cd6-fbc2-f73d1e158e77",
        "colab": {
          "base_uri": "https://localhost:8080/",
          "height": 34
        }
      },
      "source": [
        "MARGIN = 0.0004\n",
        "test_task2(model1, MARGIN)"
      ],
      "execution_count": 91,
      "outputs": [
        {
          "output_type": "execute_result",
          "data": {
            "text/plain": [
              "0.5749469214437367"
            ]
          },
          "metadata": {
            "tags": []
          },
          "execution_count": 91
        }
      ]
    },
    {
      "cell_type": "code",
      "metadata": {
        "id": "wPoL0VZG4QNd",
        "colab_type": "code",
        "colab": {}
      },
      "source": [
        "import numpy as np\n",
        "\n",
        "accs = []\n",
        "margins = np.arange(0, 0.002, 0.0001)\n",
        "\n",
        "for marg in margins:\n",
        "  accs.append(test_task2(model1, marg))"
      ],
      "execution_count": 0,
      "outputs": []
    },
    {
      "cell_type": "code",
      "metadata": {
        "id": "wM4e6nN244F_",
        "colab_type": "code",
        "colab": {
          "base_uri": "https://localhost:8080/",
          "height": 279
        },
        "outputId": "6bac042d-ff8a-4de4-84c4-ce6d9d378c4d"
      },
      "source": [
        "import matplotlib.pyplot as plt\n",
        "\n",
        "plt.plot(margins, accs)\n",
        "plt.xlabel('margin')\n",
        "plt.ylabel('accuracy')\n",
        "\n",
        "plt.savefig('margins.png')\n",
        "plt.show()"
      ],
      "execution_count": 96,
      "outputs": [
        {
          "output_type": "display_data",
          "data": {
            "image/png": "[encoded data removed]",
            "text/plain": [
              "<Figure size 432x288 with 1 Axes>"
            ]
          },
          "metadata": {
            "tags": [],
            "needs_background": "light"
          }
        }
      ]
    },
    {
      "cell_type": "markdown",
      "metadata": {
        "id": "F2ZO7s1CfPG0",
        "colab_type": "text"
      },
      "source": [
        "## Testing for sub-task 2"
      ]
    },
    {
      "cell_type": "code",
      "metadata": {
        "id": "QK6Zi_OiOnJm",
        "colab_type": "code",
        "outputId": "c91634df-a3dd-4f8f-8209-a5432b1db54b",
        "colab": {
          "base_uri": "https://localhost:8080/",
          "height": 51
        }
      },
      "source": [
        "print('about to load data')\n",
        "test_data_task2 = task2preprocessing([DRIVE_DIR / TASK_2 / 'test.csv'])\n",
        "print('loaded test data')"
      ],
      "execution_count": 94,
      "outputs": [
        {
          "output_type": "stream",
          "text": [
            "about to load data\n",
            "loaded test data\n"
          ],
          "name": "stdout"
        }
      ]
    },
    {
      "cell_type": "code",
      "metadata": {
        "id": "qjxVzNHOfWbV",
        "colab_type": "code",
        "outputId": "2f920ea1-3267-4ae8-ba6a-87ea938b587e",
        "colab": {
          "base_uri": "https://localhost:8080/",
          "height": 34
        }
      },
      "source": [
        "MARGIN = 0.0004\n",
        "test_task2(model1, MARGIN)"
      ],
      "execution_count": 95,
      "outputs": [
        {
          "output_type": "execute_result",
          "data": {
            "text/plain": [
              "0.5472972972972973"
            ]
          },
          "metadata": {
            "tags": []
          },
          "execution_count": 95
        }
      ]
    },
    {
      "cell_type": "code",
      "metadata": {
        "id": "T6XdvZUQfXmy",
        "colab_type": "code",
        "colab": {}
      },
      "source": [
        ""
      ],
      "execution_count": 0,
      "outputs": []
    }
  ]
}